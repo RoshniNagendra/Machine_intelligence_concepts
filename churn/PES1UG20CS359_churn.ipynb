{
  "cells": [
    {
      "cell_type": "code",
      "execution_count": null,
      "metadata": {
        "id": "DIB3wiRrmpGc"
      },
      "outputs": [],
      "source": [
        "#PES1UG20CS359\n",
        "import numpy as np\n",
        "import pandas as pd"
      ]
    },
    {
      "cell_type": "code",
      "execution_count": null,
      "metadata": {
        "id": "ADwWcUUMmpGe"
      },
      "outputs": [],
      "source": [
        "df = pd.read_excel(\"MI_Assignment1_2_Online Retail.xlsx\")"
      ]
    },
    {
      "cell_type": "code",
      "execution_count": null,
      "metadata": {
        "colab": {
          "base_uri": "https://localhost:8080/"
        },
        "id": "wRC7wjW6mpGf",
        "outputId": "67de007c-dca0-4224-caea-86463561bd4e"
      },
      "outputs": [
        {
          "name": "stdout",
          "output_type": "stream",
          "text": [
            "<class 'pandas.core.frame.DataFrame'>\n",
            "RangeIndex: 541909 entries, 0 to 541908\n",
            "Data columns (total 8 columns):\n",
            " #   Column       Non-Null Count   Dtype         \n",
            "---  ------       --------------   -----         \n",
            " 0   InvoiceNo    541909 non-null  object        \n",
            " 1   StockCode    541909 non-null  object        \n",
            " 2   Description  540455 non-null  object        \n",
            " 3   Quantity     541909 non-null  int64         \n",
            " 4   InvoiceDate  541909 non-null  datetime64[ns]\n",
            " 5   UnitPrice    541909 non-null  float64       \n",
            " 6   CustomerID   406829 non-null  float64       \n",
            " 7   Country      541909 non-null  object        \n",
            "dtypes: datetime64[ns](1), float64(2), int64(1), object(4)\n",
            "memory usage: 33.1+ MB\n"
          ]
        }
      ],
      "source": [
        "df.info()"
      ]
    },
    {
      "cell_type": "code",
      "execution_count": null,
      "metadata": {
        "colab": {
          "base_uri": "https://localhost:8080/"
        },
        "id": "ZyGVPZObmpGg",
        "outputId": "9a3e7dff-0162-4e57-cc11-8baa95088733"
      },
      "outputs": [
        {
          "name": "stderr",
          "output_type": "stream",
          "text": [
            "/usr/local/lib/python3.7/dist-packages/ipykernel_launcher.py:12: SettingWithCopyWarning: \n",
            "A value is trying to be set on a copy of a slice from a DataFrame\n",
            "\n",
            "See the caveats in the documentation: https://pandas.pydata.org/pandas-docs/stable/user_guide/indexing.html#returning-a-view-versus-a-copy\n",
            "  if sys.path[0] == '':\n"
          ]
        }
      ],
      "source": [
        "from pandas.core.algorithms import mode\n",
        "import statistics\n",
        "\n",
        "df['Description'].fillna(statistics.mode(df['Description']), inplace=True)\n",
        "a = []\n",
        "for i in df[\"CustomerID\"]:\n",
        "  if not np.isnan(i):\n",
        "    a.append(i)\n",
        "df[\"CustomerID\"].fillna(float(mode(a)),inplace=True)\n",
        "for i in df.index:\n",
        "  if df['Quantity'][i] < 0:\n",
        "    df['Quantity'][i]=df['Quantity'][i] * -1"
      ]
    },
    {
      "cell_type": "code",
      "execution_count": null,
      "metadata": {
        "id": "h0f7mRP-mpGg"
      },
      "outputs": [],
      "source": [
        "index = 0\n",
        "for i in range(len(df)):\n",
        "    if df['InvoiceDate'][i]> pd.Timestamp(2011,9,1):\n",
        "        index = i\n",
        "        break\n",
        "df_ = df[:][:index]"
      ]
    },
    {
      "cell_type": "code",
      "execution_count": null,
      "metadata": {
        "id": "UGHqYBc0mpGg"
      },
      "outputs": [],
      "source": [
        "after = []\n",
        "for i in df['CustomerID'][index+1:]:\n",
        "    after.append(i)\n",
        "len(after)    \n",
        "after = np.array(after)\n",
        "after = np.unique(after)"
      ]
    },
    {
      "cell_type": "code",
      "execution_count": null,
      "metadata": {
        "id": "s1SmtdrgmpGh"
      },
      "outputs": [],
      "source": [
        "lis=[0]*len(df_)\n",
        "for i in range(len(df_)):\n",
        "    if df_['CustomerID'][i] in after:\n",
        "        lis[i]=\"Not Churn\"\n",
        "    else:\n",
        "        lis[i]=\"Churn\"\n",
        "df_['Target'] = lis"
      ]
    },
    {
      "cell_type": "code",
      "execution_count": null,
      "metadata": {
        "colab": {
          "base_uri": "https://localhost:8080/"
        },
        "id": "Oty6lCBUmpGh",
        "outputId": "e93cafe4-e533-4446-d7c5-525c157bdbd2"
      },
      "outputs": [
        {
          "data": {
            "text/plain": [
              "0             Churn\n",
              "1             Churn\n",
              "2             Churn\n",
              "3             Churn\n",
              "4             Churn\n",
              "            ...    \n",
              "320700    Not Churn\n",
              "320701    Not Churn\n",
              "320702    Not Churn\n",
              "320703    Not Churn\n",
              "320704    Not Churn\n",
              "Name: Target, Length: 320705, dtype: object"
            ]
          },
          "execution_count": 8,
          "metadata": {},
          "output_type": "execute_result"
        }
      ],
      "source": [
        "df_['Target']"
      ]
    },
    {
      "cell_type": "code",
      "execution_count": null,
      "metadata": {
        "id": "iT8ka1XsmpGh"
      },
      "outputs": [],
      "source": [
        "df_ = df_[['Quantity', 'UnitPrice', 'Target']]\n",
        "df_=df_.dropna()"
      ]
    },
    {
      "cell_type": "code",
      "execution_count": null,
      "metadata": {
        "colab": {
          "base_uri": "https://localhost:8080/",
          "height": 424
        },
        "id": "hc7v0Ak9qDBJ",
        "outputId": "a28539ef-ff24-473b-ba3d-a7f8d61c1821"
      },
      "outputs": [
        {
          "data": {
            "text/html": [
              "\n",
              "  <div id=\"df-158a83f9-8dac-4965-ae1b-adf65525c844\">\n",
              "    <div class=\"colab-df-container\">\n",
              "      <div>\n",
              "<style scoped>\n",
              "    .dataframe tbody tr th:only-of-type {\n",
              "        vertical-align: middle;\n",
              "    }\n",
              "\n",
              "    .dataframe tbody tr th {\n",
              "        vertical-align: top;\n",
              "    }\n",
              "\n",
              "    .dataframe thead th {\n",
              "        text-align: right;\n",
              "    }\n",
              "</style>\n",
              "<table border=\"1\" class=\"dataframe\">\n",
              "  <thead>\n",
              "    <tr style=\"text-align: right;\">\n",
              "      <th></th>\n",
              "      <th>Quantity</th>\n",
              "      <th>UnitPrice</th>\n",
              "      <th>Target</th>\n",
              "    </tr>\n",
              "  </thead>\n",
              "  <tbody>\n",
              "    <tr>\n",
              "      <th>0</th>\n",
              "      <td>6</td>\n",
              "      <td>2.55</td>\n",
              "      <td>Churn</td>\n",
              "    </tr>\n",
              "    <tr>\n",
              "      <th>1</th>\n",
              "      <td>6</td>\n",
              "      <td>3.39</td>\n",
              "      <td>Churn</td>\n",
              "    </tr>\n",
              "    <tr>\n",
              "      <th>2</th>\n",
              "      <td>8</td>\n",
              "      <td>2.75</td>\n",
              "      <td>Churn</td>\n",
              "    </tr>\n",
              "    <tr>\n",
              "      <th>3</th>\n",
              "      <td>6</td>\n",
              "      <td>3.39</td>\n",
              "      <td>Churn</td>\n",
              "    </tr>\n",
              "    <tr>\n",
              "      <th>4</th>\n",
              "      <td>6</td>\n",
              "      <td>3.39</td>\n",
              "      <td>Churn</td>\n",
              "    </tr>\n",
              "    <tr>\n",
              "      <th>...</th>\n",
              "      <td>...</td>\n",
              "      <td>...</td>\n",
              "      <td>...</td>\n",
              "    </tr>\n",
              "    <tr>\n",
              "      <th>320700</th>\n",
              "      <td>3</td>\n",
              "      <td>1.45</td>\n",
              "      <td>Not Churn</td>\n",
              "    </tr>\n",
              "    <tr>\n",
              "      <th>320701</th>\n",
              "      <td>1</td>\n",
              "      <td>3.95</td>\n",
              "      <td>Not Churn</td>\n",
              "    </tr>\n",
              "    <tr>\n",
              "      <th>320702</th>\n",
              "      <td>1</td>\n",
              "      <td>4.15</td>\n",
              "      <td>Not Churn</td>\n",
              "    </tr>\n",
              "    <tr>\n",
              "      <th>320703</th>\n",
              "      <td>12</td>\n",
              "      <td>1.45</td>\n",
              "      <td>Not Churn</td>\n",
              "    </tr>\n",
              "    <tr>\n",
              "      <th>320704</th>\n",
              "      <td>1</td>\n",
              "      <td>57.60</td>\n",
              "      <td>Not Churn</td>\n",
              "    </tr>\n",
              "  </tbody>\n",
              "</table>\n",
              "<p>320705 rows × 3 columns</p>\n",
              "</div>\n",
              "      <button class=\"colab-df-convert\" onclick=\"convertToInteractive('df-158a83f9-8dac-4965-ae1b-adf65525c844')\"\n",
              "              title=\"Convert this dataframe to an interactive table.\"\n",
              "              style=\"display:none;\">\n",
              "        \n",
              "  <svg xmlns=\"http://www.w3.org/2000/svg\" height=\"24px\"viewBox=\"0 0 24 24\"\n",
              "       width=\"24px\">\n",
              "    <path d=\"M0 0h24v24H0V0z\" fill=\"none\"/>\n",
              "    <path d=\"M18.56 5.44l.94 2.06.94-2.06 2.06-.94-2.06-.94-.94-2.06-.94 2.06-2.06.94zm-11 1L8.5 8.5l.94-2.06 2.06-.94-2.06-.94L8.5 2.5l-.94 2.06-2.06.94zm10 10l.94 2.06.94-2.06 2.06-.94-2.06-.94-.94-2.06-.94 2.06-2.06.94z\"/><path d=\"M17.41 7.96l-1.37-1.37c-.4-.4-.92-.59-1.43-.59-.52 0-1.04.2-1.43.59L10.3 9.45l-7.72 7.72c-.78.78-.78 2.05 0 2.83L4 21.41c.39.39.9.59 1.41.59.51 0 1.02-.2 1.41-.59l7.78-7.78 2.81-2.81c.8-.78.8-2.07 0-2.86zM5.41 20L4 18.59l7.72-7.72 1.47 1.35L5.41 20z\"/>\n",
              "  </svg>\n",
              "      </button>\n",
              "      \n",
              "  <style>\n",
              "    .colab-df-container {\n",
              "      display:flex;\n",
              "      flex-wrap:wrap;\n",
              "      gap: 12px;\n",
              "    }\n",
              "\n",
              "    .colab-df-convert {\n",
              "      background-color: #E8F0FE;\n",
              "      border: none;\n",
              "      border-radius: 50%;\n",
              "      cursor: pointer;\n",
              "      display: none;\n",
              "      fill: #1967D2;\n",
              "      height: 32px;\n",
              "      padding: 0 0 0 0;\n",
              "      width: 32px;\n",
              "    }\n",
              "\n",
              "    .colab-df-convert:hover {\n",
              "      background-color: #E2EBFA;\n",
              "      box-shadow: 0px 1px 2px rgba(60, 64, 67, 0.3), 0px 1px 3px 1px rgba(60, 64, 67, 0.15);\n",
              "      fill: #174EA6;\n",
              "    }\n",
              "\n",
              "    [theme=dark] .colab-df-convert {\n",
              "      background-color: #3B4455;\n",
              "      fill: #D2E3FC;\n",
              "    }\n",
              "\n",
              "    [theme=dark] .colab-df-convert:hover {\n",
              "      background-color: #434B5C;\n",
              "      box-shadow: 0px 1px 3px 1px rgba(0, 0, 0, 0.15);\n",
              "      filter: drop-shadow(0px 1px 2px rgba(0, 0, 0, 0.3));\n",
              "      fill: #FFFFFF;\n",
              "    }\n",
              "  </style>\n",
              "\n",
              "      <script>\n",
              "        const buttonEl =\n",
              "          document.querySelector('#df-158a83f9-8dac-4965-ae1b-adf65525c844 button.colab-df-convert');\n",
              "        buttonEl.style.display =\n",
              "          google.colab.kernel.accessAllowed ? 'block' : 'none';\n",
              "\n",
              "        async function convertToInteractive(key) {\n",
              "          const element = document.querySelector('#df-158a83f9-8dac-4965-ae1b-adf65525c844');\n",
              "          const dataTable =\n",
              "            await google.colab.kernel.invokeFunction('convertToInteractive',\n",
              "                                                     [key], {});\n",
              "          if (!dataTable) return;\n",
              "\n",
              "          const docLinkHtml = 'Like what you see? Visit the ' +\n",
              "            '<a target=\"_blank\" href=https://colab.research.google.com/notebooks/data_table.ipynb>data table notebook</a>'\n",
              "            + ' to learn more about interactive tables.';\n",
              "          element.innerHTML = '';\n",
              "          dataTable['output_type'] = 'display_data';\n",
              "          await google.colab.output.renderOutput(dataTable, element);\n",
              "          const docLink = document.createElement('div');\n",
              "          docLink.innerHTML = docLinkHtml;\n",
              "          element.appendChild(docLink);\n",
              "        }\n",
              "      </script>\n",
              "    </div>\n",
              "  </div>\n",
              "  "
            ],
            "text/plain": [
              "        Quantity  UnitPrice     Target\n",
              "0              6       2.55      Churn\n",
              "1              6       3.39      Churn\n",
              "2              8       2.75      Churn\n",
              "3              6       3.39      Churn\n",
              "4              6       3.39      Churn\n",
              "...          ...        ...        ...\n",
              "320700         3       1.45  Not Churn\n",
              "320701         1       3.95  Not Churn\n",
              "320702         1       4.15  Not Churn\n",
              "320703        12       1.45  Not Churn\n",
              "320704         1      57.60  Not Churn\n",
              "\n",
              "[320705 rows x 3 columns]"
            ]
          },
          "execution_count": 10,
          "metadata": {},
          "output_type": "execute_result"
        }
      ],
      "source": [
        "df_"
      ]
    },
    {
      "cell_type": "code",
      "execution_count": null,
      "metadata": {
        "id": "4HElbl6vmpGh"
      },
      "outputs": [],
      "source": [
        "x = df_.iloc[:,0:-1].values\n",
        "y = df_.iloc[:,-1].values"
      ]
    },
    {
      "cell_type": "code",
      "execution_count": null,
      "metadata": {
        "id": "FK6Ed-vOmpGi"
      },
      "outputs": [],
      "source": [
        "from sklearn.model_selection import train_test_split\n",
        "x_train, x_test, y_train, y_test = train_test_split(x, y, random_state=42)"
      ]
    },
    {
      "cell_type": "code",
      "execution_count": null,
      "metadata": {
        "colab": {
          "base_uri": "https://localhost:8080/"
        },
        "id": "3ZdpUj7VmpGi",
        "outputId": "61097ee8-a09b-4492-adde-5d7efa46b1fb"
      },
      "outputs": [
        {
          "data": {
            "text/plain": [
              "SVC()"
            ]
          },
          "execution_count": 13,
          "metadata": {},
          "output_type": "execute_result"
        }
      ],
      "source": [
        "from sklearn.svm import SVC\n",
        "model = SVC()\n",
        "model.fit(x_train,y_train)"
      ]
    },
    {
      "cell_type": "code",
      "execution_count": null,
      "metadata": {
        "colab": {
          "base_uri": "https://localhost:8080/"
        },
        "id": "388m1QaTmpGi",
        "outputId": "7c41389d-2f40-4576-bead-9f33c603e9e2"
      },
      "outputs": [
        {
          "data": {
            "text/plain": [
              "array(['Not Churn', 'Not Churn', 'Not Churn', ..., 'Not Churn',\n",
              "       'Not Churn', 'Not Churn'], dtype=object)"
            ]
          },
          "execution_count": 14,
          "metadata": {},
          "output_type": "execute_result"
        }
      ],
      "source": [
        "y_pred = model.predict(x_test)\n",
        "y_pred"
      ]
    },
    {
      "cell_type": "code",
      "execution_count": null,
      "metadata": {
        "colab": {
          "base_uri": "https://localhost:8080/"
        },
        "id": "vVdQxrtmmpGi",
        "outputId": "34cf7701-fd90-4932-983d-d062a6862dbe"
      },
      "outputs": [
        {
          "data": {
            "text/plain": [
              "array([[    1,     2],\n",
              "       [11063, 69111]])"
            ]
          },
          "execution_count": 15,
          "metadata": {},
          "output_type": "execute_result"
        }
      ],
      "source": [
        "from sklearn.metrics import confusion_matrix,accuracy_score\n",
        "confusion_matrix(y_pred,y_test)"
      ]
    },
    {
      "cell_type": "code",
      "execution_count": null,
      "metadata": {
        "id": "73Rt-NHSmpGi"
      },
      "outputs": [],
      "source": [
        "supportaccuracy = accuracy_score(y_pred,y_test)*100"
      ]
    },
    {
      "cell_type": "code",
      "execution_count": null,
      "metadata": {
        "id": "j1ty_JpRmpGi"
      },
      "outputs": [],
      "source": [
        "from sklearn.metrics import confusion_matrix\n",
        "from sklearn.model_selection import train_test_split\n",
        "from sklearn.tree import DecisionTreeClassifier\n",
        "from sklearn.metrics import accuracy_score\n",
        "from sklearn.metrics import classification_report"
      ]
    },
    {
      "cell_type": "code",
      "execution_count": null,
      "metadata": {
        "id": "VvbRoNNOmpGj"
      },
      "outputs": [],
      "source": [
        "clf_entropy = DecisionTreeClassifier(criterion = \"entropy\", random_state = 100,max_depth = 6, min_samples_leaf = 5)\n",
        "c=clf_entropy.fit(x_train, y_train)"
      ]
    },
    {
      "cell_type": "code",
      "execution_count": null,
      "metadata": {
        "colab": {
          "base_uri": "https://localhost:8080/"
        },
        "id": "QywvPiQvmpGj",
        "outputId": "91346409-c2a9-4944-ea76-ef6e95fb9714"
      },
      "outputs": [
        {
          "name": "stdout",
          "output_type": "stream",
          "text": [
            "['Not Churn' 'Not Churn' 'Not Churn' ... 'Not Churn' 'Not Churn'\n",
            " 'Not Churn']\n"
          ]
        }
      ],
      "source": [
        "y_pred1 = c.predict(x_test)\n",
        "print(y_pred1)"
      ]
    },
    {
      "cell_type": "code",
      "execution_count": null,
      "metadata": {
        "colab": {
          "base_uri": "https://localhost:8080/"
        },
        "id": "0M4XBN9XmpGj",
        "outputId": "d8da3185-162c-4405-dd5e-b0c85d15bd68"
      },
      "outputs": [
        {
          "data": {
            "text/plain": [
              "array([[    0, 11064],\n",
              "       [    0, 69113]])"
            ]
          },
          "execution_count": 20,
          "metadata": {},
          "output_type": "execute_result"
        }
      ],
      "source": [
        "confusion_matrix(y_test, y_pred1)"
      ]
    },
    {
      "cell_type": "code",
      "execution_count": null,
      "metadata": {
        "colab": {
          "base_uri": "https://localhost:8080/"
        },
        "id": "SKhLMbIqmpGj",
        "outputId": "6f27c0c3-59ea-44ad-b19f-e36b76c6ddea"
      },
      "outputs": [
        {
          "data": {
            "text/plain": [
              "86.20053132444467"
            ]
          },
          "execution_count": 21,
          "metadata": {},
          "output_type": "execute_result"
        }
      ],
      "source": [
        "decisionaccuracy = accuracy_score(y_test,y_pred1)*100\n",
        "decisionaccuracy"
      ]
    },
    {
      "cell_type": "code",
      "execution_count": null,
      "metadata": {
        "colab": {
          "base_uri": "https://localhost:8080/",
          "height": 177
        },
        "id": "XbIiaUV2mpGj",
        "outputId": "b78725ff-47a4-4858-a810-cf14fe11df9f"
      },
      "outputs": [
        {
          "name": "stderr",
          "output_type": "stream",
          "text": [
            "/usr/local/lib/python3.7/dist-packages/sklearn/metrics/_classification.py:1318: UndefinedMetricWarning: Precision and F-score are ill-defined and being set to 0.0 in labels with no predicted samples. Use `zero_division` parameter to control this behavior.\n",
            "  _warn_prf(average, modifier, msg_start, len(result))\n",
            "/usr/local/lib/python3.7/dist-packages/sklearn/metrics/_classification.py:1318: UndefinedMetricWarning: Precision and F-score are ill-defined and being set to 0.0 in labels with no predicted samples. Use `zero_division` parameter to control this behavior.\n",
            "  _warn_prf(average, modifier, msg_start, len(result))\n",
            "/usr/local/lib/python3.7/dist-packages/sklearn/metrics/_classification.py:1318: UndefinedMetricWarning: Precision and F-score are ill-defined and being set to 0.0 in labels with no predicted samples. Use `zero_division` parameter to control this behavior.\n",
            "  _warn_prf(average, modifier, msg_start, len(result))\n"
          ]
        },
        {
          "data": {
            "application/vnd.google.colaboratory.intrinsic+json": {
              "type": "string"
            },
            "text/plain": [
              "'              precision    recall  f1-score   support\\n\\n       Churn       0.00      0.00      0.00     11064\\n   Not Churn       0.86      1.00      0.93     69113\\n\\n    accuracy                           0.86     80177\\n   macro avg       0.43      0.50      0.46     80177\\nweighted avg       0.74      0.86      0.80     80177\\n'"
            ]
          },
          "execution_count": 22,
          "metadata": {},
          "output_type": "execute_result"
        }
      ],
      "source": [
        "classification_report(y_test, y_pred1)"
      ]
    },
    {
      "cell_type": "code",
      "execution_count": null,
      "metadata": {
        "id": "rSbWQXCUmpGk"
      },
      "outputs": [],
      "source": [
        "from sklearn.neural_network import MLPClassifier\n",
        "clf = MLPClassifier(solver='lbfgs', alpha=1e-5,hidden_layer_sizes=(15,), random_state=1)\n",
        "clf.fit(x_train, y_train)\n",
        "p2=clf.predict(x_test)"
      ]
    },
    {
      "cell_type": "code",
      "execution_count": null,
      "metadata": {
        "colab": {
          "base_uri": "https://localhost:8080/"
        },
        "id": "7BVSip9ympGk",
        "outputId": "64050866-b731-4659-8999-f70df1a12d95"
      },
      "outputs": [
        {
          "data": {
            "text/plain": [
              "array([[    1, 11063],\n",
              "       [    2, 69111]])"
            ]
          },
          "execution_count": 24,
          "metadata": {},
          "output_type": "execute_result"
        }
      ],
      "source": [
        "confusion_matrix(y_test, p2)"
      ]
    },
    {
      "cell_type": "code",
      "execution_count": null,
      "metadata": {
        "id": "ksAOf00smpGk"
      },
      "outputs": [],
      "source": [
        "mlpaccuracy = accuracy_score(y_test,p2)*100"
      ]
    },
    {
      "cell_type": "code",
      "execution_count": null,
      "metadata": {
        "colab": {
          "base_uri": "https://localhost:8080/",
          "height": 53
        },
        "id": "Lo5E-ZQVmpGk",
        "outputId": "f88d99aa-7041-412f-853e-da6c39e9b9e1"
      },
      "outputs": [
        {
          "data": {
            "application/vnd.google.colaboratory.intrinsic+json": {
              "type": "string"
            },
            "text/plain": [
              "'              precision    recall  f1-score   support\\n\\n       Churn       0.33      0.00      0.00     11064\\n   Not Churn       0.86      1.00      0.93     69113\\n\\n    accuracy                           0.86     80177\\n   macro avg       0.60      0.50      0.46     80177\\nweighted avg       0.79      0.86      0.80     80177\\n'"
            ]
          },
          "execution_count": 26,
          "metadata": {},
          "output_type": "execute_result"
        }
      ],
      "source": [
        "classification_report(y_test, p2)"
      ]
    },
    {
      "cell_type": "code",
      "execution_count": null,
      "metadata": {
        "colab": {
          "base_uri": "https://localhost:8080/"
        },
        "id": "fkY-xLG1mpGk",
        "outputId": "940ccff0-c6c2-4b12-93d9-b02bd672d1fa"
      },
      "outputs": [
        {
          "name": "stdout",
          "output_type": "stream",
          "text": [
            "86.19928408396423 86.20053132444467 86.19928408396423\n"
          ]
        }
      ],
      "source": [
        "print(supportaccuracy,decisionaccuracy,mlpaccuracy)"
      ]
    }
  ],
  "metadata": {
    "accelerator": "GPU",
    "colab": {
      "provenance": []
    },
    "kernelspec": {
      "display_name": "Python 3.10.0 64-bit",
      "language": "python",
      "name": "python3"
    },
    "language_info": {
      "codemirror_mode": {
        "name": "ipython",
        "version": 3
      },
      "file_extension": ".py",
      "mimetype": "text/x-python",
      "name": "python",
      "nbconvert_exporter": "python",
      "pygments_lexer": "ipython3",
      "version": "3.10.0"
    },
    "orig_nbformat": 4,
    "vscode": {
      "interpreter": {
        "hash": "369f2c481f4da34e4445cda3fffd2e751bd1c4d706f27375911949ba6bb62e1c"
      }
    }
  },
  "nbformat": 4,
  "nbformat_minor": 0
}