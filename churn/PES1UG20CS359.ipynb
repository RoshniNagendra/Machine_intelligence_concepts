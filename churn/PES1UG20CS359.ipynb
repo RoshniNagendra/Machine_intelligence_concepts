{
  "cells": [
    {
      "cell_type": "code",
      "execution_count": 63,
      "metadata": {
        "id": "Ur8m6PrCo8nL"
      },
      "outputs": [],
      "source": [
        "import pandas as pd\n",
        "import sklearn as sk\n",
        "import tensorflow as tf\n",
        "import numpy as np\n",
        "import seaborn as sns\n"
      ]
    },
    {
      "cell_type": "code",
      "execution_count": 64,
      "metadata": {
        "id": "qe02DbENo8nO",
        "outputId": "765452f9-d80d-4a87-b71a-926ad68758a5",
        "colab": {
          "base_uri": "https://localhost:8080/",
          "height": 337
        }
      },
      "outputs": [
        {
          "output_type": "execute_result",
          "data": {
            "text/plain": [
              "  InvoiceNo StockCode                          Description  Quantity  \\\n",
              "0    536365    85123A   WHITE HANGING HEART T-LIGHT HOLDER         6   \n",
              "1    536365     71053                  WHITE METAL LANTERN         6   \n",
              "2    536365    84406B       CREAM CUPID HEARTS COAT HANGER         8   \n",
              "3    536365    84029G  KNITTED UNION FLAG HOT WATER BOTTLE         6   \n",
              "4    536365    84029E       RED WOOLLY HOTTIE WHITE HEART.         6   \n",
              "\n",
              "    InvoiceDate  UnitPrice  CustomerID         Country  \n",
              "0  12/1/10 8:26       2.55     17850.0  United Kingdom  \n",
              "1  12/1/10 8:26       3.39     17850.0  United Kingdom  \n",
              "2  12/1/10 8:26       2.75     17850.0  United Kingdom  \n",
              "3  12/1/10 8:26       3.39     17850.0  United Kingdom  \n",
              "4  12/1/10 8:26       3.39     17850.0  United Kingdom  "
            ],
            "text/html": [
              "\n",
              "  <div id=\"df-0282d662-389a-4ac4-8849-e58a6bbbdc3a\">\n",
              "    <div class=\"colab-df-container\">\n",
              "      <div>\n",
              "<style scoped>\n",
              "    .dataframe tbody tr th:only-of-type {\n",
              "        vertical-align: middle;\n",
              "    }\n",
              "\n",
              "    .dataframe tbody tr th {\n",
              "        vertical-align: top;\n",
              "    }\n",
              "\n",
              "    .dataframe thead th {\n",
              "        text-align: right;\n",
              "    }\n",
              "</style>\n",
              "<table border=\"1\" class=\"dataframe\">\n",
              "  <thead>\n",
              "    <tr style=\"text-align: right;\">\n",
              "      <th></th>\n",
              "      <th>InvoiceNo</th>\n",
              "      <th>StockCode</th>\n",
              "      <th>Description</th>\n",
              "      <th>Quantity</th>\n",
              "      <th>InvoiceDate</th>\n",
              "      <th>UnitPrice</th>\n",
              "      <th>CustomerID</th>\n",
              "      <th>Country</th>\n",
              "    </tr>\n",
              "  </thead>\n",
              "  <tbody>\n",
              "    <tr>\n",
              "      <th>0</th>\n",
              "      <td>536365</td>\n",
              "      <td>85123A</td>\n",
              "      <td>WHITE HANGING HEART T-LIGHT HOLDER</td>\n",
              "      <td>6</td>\n",
              "      <td>12/1/10 8:26</td>\n",
              "      <td>2.55</td>\n",
              "      <td>17850.0</td>\n",
              "      <td>United Kingdom</td>\n",
              "    </tr>\n",
              "    <tr>\n",
              "      <th>1</th>\n",
              "      <td>536365</td>\n",
              "      <td>71053</td>\n",
              "      <td>WHITE METAL LANTERN</td>\n",
              "      <td>6</td>\n",
              "      <td>12/1/10 8:26</td>\n",
              "      <td>3.39</td>\n",
              "      <td>17850.0</td>\n",
              "      <td>United Kingdom</td>\n",
              "    </tr>\n",
              "    <tr>\n",
              "      <th>2</th>\n",
              "      <td>536365</td>\n",
              "      <td>84406B</td>\n",
              "      <td>CREAM CUPID HEARTS COAT HANGER</td>\n",
              "      <td>8</td>\n",
              "      <td>12/1/10 8:26</td>\n",
              "      <td>2.75</td>\n",
              "      <td>17850.0</td>\n",
              "      <td>United Kingdom</td>\n",
              "    </tr>\n",
              "    <tr>\n",
              "      <th>3</th>\n",
              "      <td>536365</td>\n",
              "      <td>84029G</td>\n",
              "      <td>KNITTED UNION FLAG HOT WATER BOTTLE</td>\n",
              "      <td>6</td>\n",
              "      <td>12/1/10 8:26</td>\n",
              "      <td>3.39</td>\n",
              "      <td>17850.0</td>\n",
              "      <td>United Kingdom</td>\n",
              "    </tr>\n",
              "    <tr>\n",
              "      <th>4</th>\n",
              "      <td>536365</td>\n",
              "      <td>84029E</td>\n",
              "      <td>RED WOOLLY HOTTIE WHITE HEART.</td>\n",
              "      <td>6</td>\n",
              "      <td>12/1/10 8:26</td>\n",
              "      <td>3.39</td>\n",
              "      <td>17850.0</td>\n",
              "      <td>United Kingdom</td>\n",
              "    </tr>\n",
              "  </tbody>\n",
              "</table>\n",
              "</div>\n",
              "      <button class=\"colab-df-convert\" onclick=\"convertToInteractive('df-0282d662-389a-4ac4-8849-e58a6bbbdc3a')\"\n",
              "              title=\"Convert this dataframe to an interactive table.\"\n",
              "              style=\"display:none;\">\n",
              "        \n",
              "  <svg xmlns=\"http://www.w3.org/2000/svg\" height=\"24px\"viewBox=\"0 0 24 24\"\n",
              "       width=\"24px\">\n",
              "    <path d=\"M0 0h24v24H0V0z\" fill=\"none\"/>\n",
              "    <path d=\"M18.56 5.44l.94 2.06.94-2.06 2.06-.94-2.06-.94-.94-2.06-.94 2.06-2.06.94zm-11 1L8.5 8.5l.94-2.06 2.06-.94-2.06-.94L8.5 2.5l-.94 2.06-2.06.94zm10 10l.94 2.06.94-2.06 2.06-.94-2.06-.94-.94-2.06-.94 2.06-2.06.94z\"/><path d=\"M17.41 7.96l-1.37-1.37c-.4-.4-.92-.59-1.43-.59-.52 0-1.04.2-1.43.59L10.3 9.45l-7.72 7.72c-.78.78-.78 2.05 0 2.83L4 21.41c.39.39.9.59 1.41.59.51 0 1.02-.2 1.41-.59l7.78-7.78 2.81-2.81c.8-.78.8-2.07 0-2.86zM5.41 20L4 18.59l7.72-7.72 1.47 1.35L5.41 20z\"/>\n",
              "  </svg>\n",
              "      </button>\n",
              "      \n",
              "  <style>\n",
              "    .colab-df-container {\n",
              "      display:flex;\n",
              "      flex-wrap:wrap;\n",
              "      gap: 12px;\n",
              "    }\n",
              "\n",
              "    .colab-df-convert {\n",
              "      background-color: #E8F0FE;\n",
              "      border: none;\n",
              "      border-radius: 50%;\n",
              "      cursor: pointer;\n",
              "      display: none;\n",
              "      fill: #1967D2;\n",
              "      height: 32px;\n",
              "      padding: 0 0 0 0;\n",
              "      width: 32px;\n",
              "    }\n",
              "\n",
              "    .colab-df-convert:hover {\n",
              "      background-color: #E2EBFA;\n",
              "      box-shadow: 0px 1px 2px rgba(60, 64, 67, 0.3), 0px 1px 3px 1px rgba(60, 64, 67, 0.15);\n",
              "      fill: #174EA6;\n",
              "    }\n",
              "\n",
              "    [theme=dark] .colab-df-convert {\n",
              "      background-color: #3B4455;\n",
              "      fill: #D2E3FC;\n",
              "    }\n",
              "\n",
              "    [theme=dark] .colab-df-convert:hover {\n",
              "      background-color: #434B5C;\n",
              "      box-shadow: 0px 1px 3px 1px rgba(0, 0, 0, 0.15);\n",
              "      filter: drop-shadow(0px 1px 2px rgba(0, 0, 0, 0.3));\n",
              "      fill: #FFFFFF;\n",
              "    }\n",
              "  </style>\n",
              "\n",
              "      <script>\n",
              "        const buttonEl =\n",
              "          document.querySelector('#df-0282d662-389a-4ac4-8849-e58a6bbbdc3a button.colab-df-convert');\n",
              "        buttonEl.style.display =\n",
              "          google.colab.kernel.accessAllowed ? 'block' : 'none';\n",
              "\n",
              "        async function convertToInteractive(key) {\n",
              "          const element = document.querySelector('#df-0282d662-389a-4ac4-8849-e58a6bbbdc3a');\n",
              "          const dataTable =\n",
              "            await google.colab.kernel.invokeFunction('convertToInteractive',\n",
              "                                                     [key], {});\n",
              "          if (!dataTable) return;\n",
              "\n",
              "          const docLinkHtml = 'Like what you see? Visit the ' +\n",
              "            '<a target=\"_blank\" href=https://colab.research.google.com/notebooks/data_table.ipynb>data table notebook</a>'\n",
              "            + ' to learn more about interactive tables.';\n",
              "          element.innerHTML = '';\n",
              "          dataTable['output_type'] = 'display_data';\n",
              "          await google.colab.output.renderOutput(dataTable, element);\n",
              "          const docLink = document.createElement('div');\n",
              "          docLink.innerHTML = docLinkHtml;\n",
              "          element.appendChild(docLink);\n",
              "        }\n",
              "      </script>\n",
              "    </div>\n",
              "  </div>\n",
              "  "
            ]
          },
          "metadata": {},
          "execution_count": 64
        }
      ],
      "source": [
        "df= pd.read_csv('/content/dataset.csv')\n",
        "df.head(5)"
      ]
    },
    {
      "cell_type": "markdown",
      "metadata": {
        "id": "rBZhfLo4o8nP"
      },
      "source": [
        "# PRE PROCESSING"
      ]
    },
    {
      "cell_type": "code",
      "execution_count": 65,
      "metadata": {
        "id": "0jFahDG1o8nR",
        "outputId": "aa54a6fb-e322-41c9-ece7-c904bc30e4da",
        "colab": {
          "base_uri": "https://localhost:8080/"
        }
      },
      "outputs": [
        {
          "output_type": "execute_result",
          "data": {
            "text/plain": [
              "InvoiceNo      541909\n",
              "StockCode      541909\n",
              "Description    540455\n",
              "Quantity       541909\n",
              "InvoiceDate    541909\n",
              "UnitPrice      541909\n",
              "CustomerID     406829\n",
              "Country        541909\n",
              "dtype: int64"
            ]
          },
          "metadata": {},
          "execution_count": 65
        }
      ],
      "source": [
        "from time import time\n",
        "\n",
        "\n",
        "#convert str to date\n",
        "df['InvoiceDate']=pd.to_datetime(df['InvoiceDate'])\n",
        "df.count()"
      ]
    },
    {
      "cell_type": "markdown",
      "metadata": {
        "id": "aAuCVDVuo8nS"
      },
      "source": [
        "## DROPPING NULL TUPLES"
      ]
    },
    {
      "cell_type": "code",
      "execution_count": 66,
      "metadata": {
        "id": "ZZaDgdXyo8nT",
        "outputId": "53eeb7ff-c0bb-4b52-b63e-7d3fe324b4b2",
        "colab": {
          "base_uri": "https://localhost:8080/"
        }
      },
      "outputs": [
        {
          "output_type": "execute_result",
          "data": {
            "text/plain": [
              "InvoiceNo           0\n",
              "StockCode           0\n",
              "Description      1454\n",
              "Quantity            0\n",
              "InvoiceDate         0\n",
              "UnitPrice           0\n",
              "CustomerID     135080\n",
              "Country             0\n",
              "dtype: int64"
            ]
          },
          "metadata": {},
          "execution_count": 66
        }
      ],
      "source": [
        "df.isnull().sum()"
      ]
    },
    {
      "cell_type": "code",
      "execution_count": 67,
      "metadata": {
        "id": "LwRcUVXao8nU"
      },
      "outputs": [],
      "source": [
        "df=df[df['CustomerID'].notna()]"
      ]
    },
    {
      "cell_type": "code",
      "execution_count": 68,
      "metadata": {
        "id": "vL7LRuBbo8nV",
        "outputId": "609ab9f1-04fa-41b3-b8a2-7f4c2d6f0625",
        "colab": {
          "base_uri": "https://localhost:8080/"
        }
      },
      "outputs": [
        {
          "output_type": "execute_result",
          "data": {
            "text/plain": [
              "InvoiceNo      0\n",
              "StockCode      0\n",
              "Description    0\n",
              "Quantity       0\n",
              "InvoiceDate    0\n",
              "UnitPrice      0\n",
              "CustomerID     0\n",
              "Country        0\n",
              "dtype: int64"
            ]
          },
          "metadata": {},
          "execution_count": 68
        }
      ],
      "source": [
        "\n",
        "df.isnull().sum()"
      ]
    },
    {
      "cell_type": "markdown",
      "metadata": {
        "id": "dYPCZz_to8nV"
      },
      "source": [
        "## CREATING TRAINING SET"
      ]
    },
    {
      "cell_type": "code",
      "execution_count": 69,
      "metadata": {
        "id": "VPGU4TK9o8nW"
      },
      "outputs": [],
      "source": [
        "\"\"\n",
        "from datetime import datetime\n",
        "from random import triangular\n",
        "\n",
        "\n",
        "start_date=pd.Timestamp(2010,12,1)\n",
        "end_date=pd.Timestamp(2011,8,31)\n",
        "train_set=df[df['InvoiceDate']>=start_date]\n",
        "train_set=train_set[train_set['InvoiceDate']<=end_date]"
      ]
    },
    {
      "cell_type": "code",
      "execution_count": 70,
      "metadata": {
        "id": "li8vG0Rqo8nX",
        "outputId": "146b6e20-3c6f-482b-974c-b8f529f83835",
        "colab": {
          "base_uri": "https://localhost:8080/",
          "height": 337
        }
      },
      "outputs": [
        {
          "output_type": "execute_result",
          "data": {
            "text/plain": [
              "  InvoiceNo StockCode                          Description  Quantity  \\\n",
              "0    536365    85123A   WHITE HANGING HEART T-LIGHT HOLDER         6   \n",
              "1    536365     71053                  WHITE METAL LANTERN         6   \n",
              "2    536365    84406B       CREAM CUPID HEARTS COAT HANGER         8   \n",
              "3    536365    84029G  KNITTED UNION FLAG HOT WATER BOTTLE         6   \n",
              "4    536365    84029E       RED WOOLLY HOTTIE WHITE HEART.         6   \n",
              "\n",
              "          InvoiceDate  UnitPrice  CustomerID         Country  \n",
              "0 2010-12-01 08:26:00       2.55     17850.0  United Kingdom  \n",
              "1 2010-12-01 08:26:00       3.39     17850.0  United Kingdom  \n",
              "2 2010-12-01 08:26:00       2.75     17850.0  United Kingdom  \n",
              "3 2010-12-01 08:26:00       3.39     17850.0  United Kingdom  \n",
              "4 2010-12-01 08:26:00       3.39     17850.0  United Kingdom  "
            ],
            "text/html": [
              "\n",
              "  <div id=\"df-fbde9c91-5588-4c76-a80a-39bd09049b33\">\n",
              "    <div class=\"colab-df-container\">\n",
              "      <div>\n",
              "<style scoped>\n",
              "    .dataframe tbody tr th:only-of-type {\n",
              "        vertical-align: middle;\n",
              "    }\n",
              "\n",
              "    .dataframe tbody tr th {\n",
              "        vertical-align: top;\n",
              "    }\n",
              "\n",
              "    .dataframe thead th {\n",
              "        text-align: right;\n",
              "    }\n",
              "</style>\n",
              "<table border=\"1\" class=\"dataframe\">\n",
              "  <thead>\n",
              "    <tr style=\"text-align: right;\">\n",
              "      <th></th>\n",
              "      <th>InvoiceNo</th>\n",
              "      <th>StockCode</th>\n",
              "      <th>Description</th>\n",
              "      <th>Quantity</th>\n",
              "      <th>InvoiceDate</th>\n",
              "      <th>UnitPrice</th>\n",
              "      <th>CustomerID</th>\n",
              "      <th>Country</th>\n",
              "    </tr>\n",
              "  </thead>\n",
              "  <tbody>\n",
              "    <tr>\n",
              "      <th>0</th>\n",
              "      <td>536365</td>\n",
              "      <td>85123A</td>\n",
              "      <td>WHITE HANGING HEART T-LIGHT HOLDER</td>\n",
              "      <td>6</td>\n",
              "      <td>2010-12-01 08:26:00</td>\n",
              "      <td>2.55</td>\n",
              "      <td>17850.0</td>\n",
              "      <td>United Kingdom</td>\n",
              "    </tr>\n",
              "    <tr>\n",
              "      <th>1</th>\n",
              "      <td>536365</td>\n",
              "      <td>71053</td>\n",
              "      <td>WHITE METAL LANTERN</td>\n",
              "      <td>6</td>\n",
              "      <td>2010-12-01 08:26:00</td>\n",
              "      <td>3.39</td>\n",
              "      <td>17850.0</td>\n",
              "      <td>United Kingdom</td>\n",
              "    </tr>\n",
              "    <tr>\n",
              "      <th>2</th>\n",
              "      <td>536365</td>\n",
              "      <td>84406B</td>\n",
              "      <td>CREAM CUPID HEARTS COAT HANGER</td>\n",
              "      <td>8</td>\n",
              "      <td>2010-12-01 08:26:00</td>\n",
              "      <td>2.75</td>\n",
              "      <td>17850.0</td>\n",
              "      <td>United Kingdom</td>\n",
              "    </tr>\n",
              "    <tr>\n",
              "      <th>3</th>\n",
              "      <td>536365</td>\n",
              "      <td>84029G</td>\n",
              "      <td>KNITTED UNION FLAG HOT WATER BOTTLE</td>\n",
              "      <td>6</td>\n",
              "      <td>2010-12-01 08:26:00</td>\n",
              "      <td>3.39</td>\n",
              "      <td>17850.0</td>\n",
              "      <td>United Kingdom</td>\n",
              "    </tr>\n",
              "    <tr>\n",
              "      <th>4</th>\n",
              "      <td>536365</td>\n",
              "      <td>84029E</td>\n",
              "      <td>RED WOOLLY HOTTIE WHITE HEART.</td>\n",
              "      <td>6</td>\n",
              "      <td>2010-12-01 08:26:00</td>\n",
              "      <td>3.39</td>\n",
              "      <td>17850.0</td>\n",
              "      <td>United Kingdom</td>\n",
              "    </tr>\n",
              "  </tbody>\n",
              "</table>\n",
              "</div>\n",
              "      <button class=\"colab-df-convert\" onclick=\"convertToInteractive('df-fbde9c91-5588-4c76-a80a-39bd09049b33')\"\n",
              "              title=\"Convert this dataframe to an interactive table.\"\n",
              "              style=\"display:none;\">\n",
              "        \n",
              "  <svg xmlns=\"http://www.w3.org/2000/svg\" height=\"24px\"viewBox=\"0 0 24 24\"\n",
              "       width=\"24px\">\n",
              "    <path d=\"M0 0h24v24H0V0z\" fill=\"none\"/>\n",
              "    <path d=\"M18.56 5.44l.94 2.06.94-2.06 2.06-.94-2.06-.94-.94-2.06-.94 2.06-2.06.94zm-11 1L8.5 8.5l.94-2.06 2.06-.94-2.06-.94L8.5 2.5l-.94 2.06-2.06.94zm10 10l.94 2.06.94-2.06 2.06-.94-2.06-.94-.94-2.06-.94 2.06-2.06.94z\"/><path d=\"M17.41 7.96l-1.37-1.37c-.4-.4-.92-.59-1.43-.59-.52 0-1.04.2-1.43.59L10.3 9.45l-7.72 7.72c-.78.78-.78 2.05 0 2.83L4 21.41c.39.39.9.59 1.41.59.51 0 1.02-.2 1.41-.59l7.78-7.78 2.81-2.81c.8-.78.8-2.07 0-2.86zM5.41 20L4 18.59l7.72-7.72 1.47 1.35L5.41 20z\"/>\n",
              "  </svg>\n",
              "      </button>\n",
              "      \n",
              "  <style>\n",
              "    .colab-df-container {\n",
              "      display:flex;\n",
              "      flex-wrap:wrap;\n",
              "      gap: 12px;\n",
              "    }\n",
              "\n",
              "    .colab-df-convert {\n",
              "      background-color: #E8F0FE;\n",
              "      border: none;\n",
              "      border-radius: 50%;\n",
              "      cursor: pointer;\n",
              "      display: none;\n",
              "      fill: #1967D2;\n",
              "      height: 32px;\n",
              "      padding: 0 0 0 0;\n",
              "      width: 32px;\n",
              "    }\n",
              "\n",
              "    .colab-df-convert:hover {\n",
              "      background-color: #E2EBFA;\n",
              "      box-shadow: 0px 1px 2px rgba(60, 64, 67, 0.3), 0px 1px 3px 1px rgba(60, 64, 67, 0.15);\n",
              "      fill: #174EA6;\n",
              "    }\n",
              "\n",
              "    [theme=dark] .colab-df-convert {\n",
              "      background-color: #3B4455;\n",
              "      fill: #D2E3FC;\n",
              "    }\n",
              "\n",
              "    [theme=dark] .colab-df-convert:hover {\n",
              "      background-color: #434B5C;\n",
              "      box-shadow: 0px 1px 3px 1px rgba(0, 0, 0, 0.15);\n",
              "      filter: drop-shadow(0px 1px 2px rgba(0, 0, 0, 0.3));\n",
              "      fill: #FFFFFF;\n",
              "    }\n",
              "  </style>\n",
              "\n",
              "      <script>\n",
              "        const buttonEl =\n",
              "          document.querySelector('#df-fbde9c91-5588-4c76-a80a-39bd09049b33 button.colab-df-convert');\n",
              "        buttonEl.style.display =\n",
              "          google.colab.kernel.accessAllowed ? 'block' : 'none';\n",
              "\n",
              "        async function convertToInteractive(key) {\n",
              "          const element = document.querySelector('#df-fbde9c91-5588-4c76-a80a-39bd09049b33');\n",
              "          const dataTable =\n",
              "            await google.colab.kernel.invokeFunction('convertToInteractive',\n",
              "                                                     [key], {});\n",
              "          if (!dataTable) return;\n",
              "\n",
              "          const docLinkHtml = 'Like what you see? Visit the ' +\n",
              "            '<a target=\"_blank\" href=https://colab.research.google.com/notebooks/data_table.ipynb>data table notebook</a>'\n",
              "            + ' to learn more about interactive tables.';\n",
              "          element.innerHTML = '';\n",
              "          dataTable['output_type'] = 'display_data';\n",
              "          await google.colab.output.renderOutput(dataTable, element);\n",
              "          const docLink = document.createElement('div');\n",
              "          docLink.innerHTML = docLinkHtml;\n",
              "          element.appendChild(docLink);\n",
              "        }\n",
              "      </script>\n",
              "    </div>\n",
              "  </div>\n",
              "  "
            ]
          },
          "metadata": {},
          "execution_count": 70
        }
      ],
      "source": [
        "train_set.head()"
      ]
    },
    {
      "cell_type": "code",
      "execution_count": 71,
      "metadata": {
        "id": "Kv_3khUfo8nX",
        "outputId": "b4021738-60f4-4af9-c397-41794aca6432",
        "colab": {
          "base_uri": "https://localhost:8080/",
          "height": 337
        }
      },
      "outputs": [
        {
          "output_type": "execute_result",
          "data": {
            "text/plain": [
              "       InvoiceNo StockCode                 Description  Quantity  \\\n",
              "320705    565080     20677          PINK POLKADOT BOWL         8   \n",
              "320706    565080     22128  PARTY CONES CANDY ASSORTED        24   \n",
              "320708    565082     22423    REGENCY CAKESTAND 3 TIER         2   \n",
              "320709    565082    15060B  FAIRY CAKE DESIGN UMBRELLA         8   \n",
              "320710    565082     23245  SET OF 3 REGENCY CAKE TINS         4   \n",
              "\n",
              "               InvoiceDate  UnitPrice  CustomerID         Country  \n",
              "320705 2011-09-01 08:25:00       1.25     13509.0  United Kingdom  \n",
              "320706 2011-09-01 08:25:00       1.25     13509.0  United Kingdom  \n",
              "320708 2011-09-01 09:15:00      12.75     13305.0  United Kingdom  \n",
              "320709 2011-09-01 09:15:00       3.75     13305.0  United Kingdom  \n",
              "320710 2011-09-01 09:15:00       4.95     13305.0  United Kingdom  "
            ],
            "text/html": [
              "\n",
              "  <div id=\"df-6c2cb860-dde2-4acd-b266-6076975aeaf2\">\n",
              "    <div class=\"colab-df-container\">\n",
              "      <div>\n",
              "<style scoped>\n",
              "    .dataframe tbody tr th:only-of-type {\n",
              "        vertical-align: middle;\n",
              "    }\n",
              "\n",
              "    .dataframe tbody tr th {\n",
              "        vertical-align: top;\n",
              "    }\n",
              "\n",
              "    .dataframe thead th {\n",
              "        text-align: right;\n",
              "    }\n",
              "</style>\n",
              "<table border=\"1\" class=\"dataframe\">\n",
              "  <thead>\n",
              "    <tr style=\"text-align: right;\">\n",
              "      <th></th>\n",
              "      <th>InvoiceNo</th>\n",
              "      <th>StockCode</th>\n",
              "      <th>Description</th>\n",
              "      <th>Quantity</th>\n",
              "      <th>InvoiceDate</th>\n",
              "      <th>UnitPrice</th>\n",
              "      <th>CustomerID</th>\n",
              "      <th>Country</th>\n",
              "    </tr>\n",
              "  </thead>\n",
              "  <tbody>\n",
              "    <tr>\n",
              "      <th>320705</th>\n",
              "      <td>565080</td>\n",
              "      <td>20677</td>\n",
              "      <td>PINK POLKADOT BOWL</td>\n",
              "      <td>8</td>\n",
              "      <td>2011-09-01 08:25:00</td>\n",
              "      <td>1.25</td>\n",
              "      <td>13509.0</td>\n",
              "      <td>United Kingdom</td>\n",
              "    </tr>\n",
              "    <tr>\n",
              "      <th>320706</th>\n",
              "      <td>565080</td>\n",
              "      <td>22128</td>\n",
              "      <td>PARTY CONES CANDY ASSORTED</td>\n",
              "      <td>24</td>\n",
              "      <td>2011-09-01 08:25:00</td>\n",
              "      <td>1.25</td>\n",
              "      <td>13509.0</td>\n",
              "      <td>United Kingdom</td>\n",
              "    </tr>\n",
              "    <tr>\n",
              "      <th>320708</th>\n",
              "      <td>565082</td>\n",
              "      <td>22423</td>\n",
              "      <td>REGENCY CAKESTAND 3 TIER</td>\n",
              "      <td>2</td>\n",
              "      <td>2011-09-01 09:15:00</td>\n",
              "      <td>12.75</td>\n",
              "      <td>13305.0</td>\n",
              "      <td>United Kingdom</td>\n",
              "    </tr>\n",
              "    <tr>\n",
              "      <th>320709</th>\n",
              "      <td>565082</td>\n",
              "      <td>15060B</td>\n",
              "      <td>FAIRY CAKE DESIGN UMBRELLA</td>\n",
              "      <td>8</td>\n",
              "      <td>2011-09-01 09:15:00</td>\n",
              "      <td>3.75</td>\n",
              "      <td>13305.0</td>\n",
              "      <td>United Kingdom</td>\n",
              "    </tr>\n",
              "    <tr>\n",
              "      <th>320710</th>\n",
              "      <td>565082</td>\n",
              "      <td>23245</td>\n",
              "      <td>SET OF 3 REGENCY CAKE TINS</td>\n",
              "      <td>4</td>\n",
              "      <td>2011-09-01 09:15:00</td>\n",
              "      <td>4.95</td>\n",
              "      <td>13305.0</td>\n",
              "      <td>United Kingdom</td>\n",
              "    </tr>\n",
              "  </tbody>\n",
              "</table>\n",
              "</div>\n",
              "      <button class=\"colab-df-convert\" onclick=\"convertToInteractive('df-6c2cb860-dde2-4acd-b266-6076975aeaf2')\"\n",
              "              title=\"Convert this dataframe to an interactive table.\"\n",
              "              style=\"display:none;\">\n",
              "        \n",
              "  <svg xmlns=\"http://www.w3.org/2000/svg\" height=\"24px\"viewBox=\"0 0 24 24\"\n",
              "       width=\"24px\">\n",
              "    <path d=\"M0 0h24v24H0V0z\" fill=\"none\"/>\n",
              "    <path d=\"M18.56 5.44l.94 2.06.94-2.06 2.06-.94-2.06-.94-.94-2.06-.94 2.06-2.06.94zm-11 1L8.5 8.5l.94-2.06 2.06-.94-2.06-.94L8.5 2.5l-.94 2.06-2.06.94zm10 10l.94 2.06.94-2.06 2.06-.94-2.06-.94-.94-2.06-.94 2.06-2.06.94z\"/><path d=\"M17.41 7.96l-1.37-1.37c-.4-.4-.92-.59-1.43-.59-.52 0-1.04.2-1.43.59L10.3 9.45l-7.72 7.72c-.78.78-.78 2.05 0 2.83L4 21.41c.39.39.9.59 1.41.59.51 0 1.02-.2 1.41-.59l7.78-7.78 2.81-2.81c.8-.78.8-2.07 0-2.86zM5.41 20L4 18.59l7.72-7.72 1.47 1.35L5.41 20z\"/>\n",
              "  </svg>\n",
              "      </button>\n",
              "      \n",
              "  <style>\n",
              "    .colab-df-container {\n",
              "      display:flex;\n",
              "      flex-wrap:wrap;\n",
              "      gap: 12px;\n",
              "    }\n",
              "\n",
              "    .colab-df-convert {\n",
              "      background-color: #E8F0FE;\n",
              "      border: none;\n",
              "      border-radius: 50%;\n",
              "      cursor: pointer;\n",
              "      display: none;\n",
              "      fill: #1967D2;\n",
              "      height: 32px;\n",
              "      padding: 0 0 0 0;\n",
              "      width: 32px;\n",
              "    }\n",
              "\n",
              "    .colab-df-convert:hover {\n",
              "      background-color: #E2EBFA;\n",
              "      box-shadow: 0px 1px 2px rgba(60, 64, 67, 0.3), 0px 1px 3px 1px rgba(60, 64, 67, 0.15);\n",
              "      fill: #174EA6;\n",
              "    }\n",
              "\n",
              "    [theme=dark] .colab-df-convert {\n",
              "      background-color: #3B4455;\n",
              "      fill: #D2E3FC;\n",
              "    }\n",
              "\n",
              "    [theme=dark] .colab-df-convert:hover {\n",
              "      background-color: #434B5C;\n",
              "      box-shadow: 0px 1px 3px 1px rgba(0, 0, 0, 0.15);\n",
              "      filter: drop-shadow(0px 1px 2px rgba(0, 0, 0, 0.3));\n",
              "      fill: #FFFFFF;\n",
              "    }\n",
              "  </style>\n",
              "\n",
              "      <script>\n",
              "        const buttonEl =\n",
              "          document.querySelector('#df-6c2cb860-dde2-4acd-b266-6076975aeaf2 button.colab-df-convert');\n",
              "        buttonEl.style.display =\n",
              "          google.colab.kernel.accessAllowed ? 'block' : 'none';\n",
              "\n",
              "        async function convertToInteractive(key) {\n",
              "          const element = document.querySelector('#df-6c2cb860-dde2-4acd-b266-6076975aeaf2');\n",
              "          const dataTable =\n",
              "            await google.colab.kernel.invokeFunction('convertToInteractive',\n",
              "                                                     [key], {});\n",
              "          if (!dataTable) return;\n",
              "\n",
              "          const docLinkHtml = 'Like what you see? Visit the ' +\n",
              "            '<a target=\"_blank\" href=https://colab.research.google.com/notebooks/data_table.ipynb>data table notebook</a>'\n",
              "            + ' to learn more about interactive tables.';\n",
              "          element.innerHTML = '';\n",
              "          dataTable['output_type'] = 'display_data';\n",
              "          await google.colab.output.renderOutput(dataTable, element);\n",
              "          const docLink = document.createElement('div');\n",
              "          docLink.innerHTML = docLinkHtml;\n",
              "          element.appendChild(docLink);\n",
              "        }\n",
              "      </script>\n",
              "    </div>\n",
              "  </div>\n",
              "  "
            ]
          },
          "metadata": {},
          "execution_count": 71
        }
      ],
      "source": [
        "start_date=pd.Timestamp(2011,9,1)\n",
        "end_date=pd.Timestamp(2011,12,31)\n",
        "churn_set=df[df['InvoiceDate']>=start_date]\n",
        "churn_set=churn_set[churn_set['InvoiceDate']<=end_date]\n",
        "churn_set.head()"
      ]
    },
    {
      "cell_type": "markdown",
      "metadata": {
        "id": "RbHxWaKmo8nY"
      },
      "source": [
        "## ASSIGNING TARGET VARIABLE"
      ]
    },
    {
      "cell_type": "code",
      "execution_count": 72,
      "metadata": {
        "id": "VZaVU3nxo8nY"
      },
      "outputs": [],
      "source": [
        "train_unique=train_set['CustomerID'].unique()\n",
        "churn_unique=churn_set['CustomerID'].unique()\n",
        "\n",
        "ischurnlis=[]\n",
        "for id in train_unique:\n",
        "    if id in churn_unique:\n",
        "        ischurnlis.append(id)\n"
      ]
    },
    {
      "cell_type": "code",
      "execution_count": 73,
      "metadata": {
        "id": "YSPTl9Uko8nZ"
      },
      "outputs": [],
      "source": [
        "train_set=train_set.assign(isChurn=[1 if x in ischurnlis else 0 for x in train_set['CustomerID']])"
      ]
    },
    {
      "cell_type": "code",
      "execution_count": 74,
      "metadata": {
        "id": "rLAfZXtwo8nZ",
        "outputId": "ad7b4f93-2319-4604-cedb-88cabab12825",
        "colab": {
          "base_uri": "https://localhost:8080/",
          "height": 406
        }
      },
      "outputs": [
        {
          "output_type": "execute_result",
          "data": {
            "text/plain": [
              "  InvoiceNo StockCode                          Description  Quantity  \\\n",
              "0    536365    85123A   WHITE HANGING HEART T-LIGHT HOLDER         6   \n",
              "1    536365     71053                  WHITE METAL LANTERN         6   \n",
              "2    536365    84406B       CREAM CUPID HEARTS COAT HANGER         8   \n",
              "3    536365    84029G  KNITTED UNION FLAG HOT WATER BOTTLE         6   \n",
              "4    536365    84029E       RED WOOLLY HOTTIE WHITE HEART.         6   \n",
              "\n",
              "          InvoiceDate  UnitPrice  CustomerID         Country  isChurn  \n",
              "0 2010-12-01 08:26:00       2.55     17850.0  United Kingdom        0  \n",
              "1 2010-12-01 08:26:00       3.39     17850.0  United Kingdom        0  \n",
              "2 2010-12-01 08:26:00       2.75     17850.0  United Kingdom        0  \n",
              "3 2010-12-01 08:26:00       3.39     17850.0  United Kingdom        0  \n",
              "4 2010-12-01 08:26:00       3.39     17850.0  United Kingdom        0  "
            ],
            "text/html": [
              "\n",
              "  <div id=\"df-d1d3e822-5ac7-4532-9e22-7e2791bb2302\">\n",
              "    <div class=\"colab-df-container\">\n",
              "      <div>\n",
              "<style scoped>\n",
              "    .dataframe tbody tr th:only-of-type {\n",
              "        vertical-align: middle;\n",
              "    }\n",
              "\n",
              "    .dataframe tbody tr th {\n",
              "        vertical-align: top;\n",
              "    }\n",
              "\n",
              "    .dataframe thead th {\n",
              "        text-align: right;\n",
              "    }\n",
              "</style>\n",
              "<table border=\"1\" class=\"dataframe\">\n",
              "  <thead>\n",
              "    <tr style=\"text-align: right;\">\n",
              "      <th></th>\n",
              "      <th>InvoiceNo</th>\n",
              "      <th>StockCode</th>\n",
              "      <th>Description</th>\n",
              "      <th>Quantity</th>\n",
              "      <th>InvoiceDate</th>\n",
              "      <th>UnitPrice</th>\n",
              "      <th>CustomerID</th>\n",
              "      <th>Country</th>\n",
              "      <th>isChurn</th>\n",
              "    </tr>\n",
              "  </thead>\n",
              "  <tbody>\n",
              "    <tr>\n",
              "      <th>0</th>\n",
              "      <td>536365</td>\n",
              "      <td>85123A</td>\n",
              "      <td>WHITE HANGING HEART T-LIGHT HOLDER</td>\n",
              "      <td>6</td>\n",
              "      <td>2010-12-01 08:26:00</td>\n",
              "      <td>2.55</td>\n",
              "      <td>17850.0</td>\n",
              "      <td>United Kingdom</td>\n",
              "      <td>0</td>\n",
              "    </tr>\n",
              "    <tr>\n",
              "      <th>1</th>\n",
              "      <td>536365</td>\n",
              "      <td>71053</td>\n",
              "      <td>WHITE METAL LANTERN</td>\n",
              "      <td>6</td>\n",
              "      <td>2010-12-01 08:26:00</td>\n",
              "      <td>3.39</td>\n",
              "      <td>17850.0</td>\n",
              "      <td>United Kingdom</td>\n",
              "      <td>0</td>\n",
              "    </tr>\n",
              "    <tr>\n",
              "      <th>2</th>\n",
              "      <td>536365</td>\n",
              "      <td>84406B</td>\n",
              "      <td>CREAM CUPID HEARTS COAT HANGER</td>\n",
              "      <td>8</td>\n",
              "      <td>2010-12-01 08:26:00</td>\n",
              "      <td>2.75</td>\n",
              "      <td>17850.0</td>\n",
              "      <td>United Kingdom</td>\n",
              "      <td>0</td>\n",
              "    </tr>\n",
              "    <tr>\n",
              "      <th>3</th>\n",
              "      <td>536365</td>\n",
              "      <td>84029G</td>\n",
              "      <td>KNITTED UNION FLAG HOT WATER BOTTLE</td>\n",
              "      <td>6</td>\n",
              "      <td>2010-12-01 08:26:00</td>\n",
              "      <td>3.39</td>\n",
              "      <td>17850.0</td>\n",
              "      <td>United Kingdom</td>\n",
              "      <td>0</td>\n",
              "    </tr>\n",
              "    <tr>\n",
              "      <th>4</th>\n",
              "      <td>536365</td>\n",
              "      <td>84029E</td>\n",
              "      <td>RED WOOLLY HOTTIE WHITE HEART.</td>\n",
              "      <td>6</td>\n",
              "      <td>2010-12-01 08:26:00</td>\n",
              "      <td>3.39</td>\n",
              "      <td>17850.0</td>\n",
              "      <td>United Kingdom</td>\n",
              "      <td>0</td>\n",
              "    </tr>\n",
              "  </tbody>\n",
              "</table>\n",
              "</div>\n",
              "      <button class=\"colab-df-convert\" onclick=\"convertToInteractive('df-d1d3e822-5ac7-4532-9e22-7e2791bb2302')\"\n",
              "              title=\"Convert this dataframe to an interactive table.\"\n",
              "              style=\"display:none;\">\n",
              "        \n",
              "  <svg xmlns=\"http://www.w3.org/2000/svg\" height=\"24px\"viewBox=\"0 0 24 24\"\n",
              "       width=\"24px\">\n",
              "    <path d=\"M0 0h24v24H0V0z\" fill=\"none\"/>\n",
              "    <path d=\"M18.56 5.44l.94 2.06.94-2.06 2.06-.94-2.06-.94-.94-2.06-.94 2.06-2.06.94zm-11 1L8.5 8.5l.94-2.06 2.06-.94-2.06-.94L8.5 2.5l-.94 2.06-2.06.94zm10 10l.94 2.06.94-2.06 2.06-.94-2.06-.94-.94-2.06-.94 2.06-2.06.94z\"/><path d=\"M17.41 7.96l-1.37-1.37c-.4-.4-.92-.59-1.43-.59-.52 0-1.04.2-1.43.59L10.3 9.45l-7.72 7.72c-.78.78-.78 2.05 0 2.83L4 21.41c.39.39.9.59 1.41.59.51 0 1.02-.2 1.41-.59l7.78-7.78 2.81-2.81c.8-.78.8-2.07 0-2.86zM5.41 20L4 18.59l7.72-7.72 1.47 1.35L5.41 20z\"/>\n",
              "  </svg>\n",
              "      </button>\n",
              "      \n",
              "  <style>\n",
              "    .colab-df-container {\n",
              "      display:flex;\n",
              "      flex-wrap:wrap;\n",
              "      gap: 12px;\n",
              "    }\n",
              "\n",
              "    .colab-df-convert {\n",
              "      background-color: #E8F0FE;\n",
              "      border: none;\n",
              "      border-radius: 50%;\n",
              "      cursor: pointer;\n",
              "      display: none;\n",
              "      fill: #1967D2;\n",
              "      height: 32px;\n",
              "      padding: 0 0 0 0;\n",
              "      width: 32px;\n",
              "    }\n",
              "\n",
              "    .colab-df-convert:hover {\n",
              "      background-color: #E2EBFA;\n",
              "      box-shadow: 0px 1px 2px rgba(60, 64, 67, 0.3), 0px 1px 3px 1px rgba(60, 64, 67, 0.15);\n",
              "      fill: #174EA6;\n",
              "    }\n",
              "\n",
              "    [theme=dark] .colab-df-convert {\n",
              "      background-color: #3B4455;\n",
              "      fill: #D2E3FC;\n",
              "    }\n",
              "\n",
              "    [theme=dark] .colab-df-convert:hover {\n",
              "      background-color: #434B5C;\n",
              "      box-shadow: 0px 1px 3px 1px rgba(0, 0, 0, 0.15);\n",
              "      filter: drop-shadow(0px 1px 2px rgba(0, 0, 0, 0.3));\n",
              "      fill: #FFFFFF;\n",
              "    }\n",
              "  </style>\n",
              "\n",
              "      <script>\n",
              "        const buttonEl =\n",
              "          document.querySelector('#df-d1d3e822-5ac7-4532-9e22-7e2791bb2302 button.colab-df-convert');\n",
              "        buttonEl.style.display =\n",
              "          google.colab.kernel.accessAllowed ? 'block' : 'none';\n",
              "\n",
              "        async function convertToInteractive(key) {\n",
              "          const element = document.querySelector('#df-d1d3e822-5ac7-4532-9e22-7e2791bb2302');\n",
              "          const dataTable =\n",
              "            await google.colab.kernel.invokeFunction('convertToInteractive',\n",
              "                                                     [key], {});\n",
              "          if (!dataTable) return;\n",
              "\n",
              "          const docLinkHtml = 'Like what you see? Visit the ' +\n",
              "            '<a target=\"_blank\" href=https://colab.research.google.com/notebooks/data_table.ipynb>data table notebook</a>'\n",
              "            + ' to learn more about interactive tables.';\n",
              "          element.innerHTML = '';\n",
              "          dataTable['output_type'] = 'display_data';\n",
              "          await google.colab.output.renderOutput(dataTable, element);\n",
              "          const docLink = document.createElement('div');\n",
              "          docLink.innerHTML = docLinkHtml;\n",
              "          element.appendChild(docLink);\n",
              "        }\n",
              "      </script>\n",
              "    </div>\n",
              "  </div>\n",
              "  "
            ]
          },
          "metadata": {},
          "execution_count": 74
        }
      ],
      "source": [
        "train_set.head()"
      ]
    },
    {
      "cell_type": "code",
      "execution_count": 75,
      "metadata": {
        "id": "lX5HAf9uo8nZ",
        "outputId": "5cf8ccb8-fc4d-4366-ab81-08630988a1b9",
        "colab": {
          "base_uri": "https://localhost:8080/"
        }
      },
      "outputs": [
        {
          "output_type": "execute_result",
          "data": {
            "text/plain": [
              "InvoiceNo      231183\n",
              "StockCode      231183\n",
              "Description    231183\n",
              "Quantity       231183\n",
              "InvoiceDate    231183\n",
              "UnitPrice      231183\n",
              "CustomerID     231183\n",
              "Country        231183\n",
              "isChurn        231183\n",
              "dtype: int64"
            ]
          },
          "metadata": {},
          "execution_count": 75
        }
      ],
      "source": [
        "train_set.count()"
      ]
    },
    {
      "cell_type": "markdown",
      "metadata": {
        "id": "UHoVyKROo8nZ"
      },
      "source": [
        "# FEATURE SELECTION"
      ]
    },
    {
      "cell_type": "code",
      "execution_count": 76,
      "metadata": {
        "id": "uvcYU3cAo8na",
        "outputId": "28d4a029-c0b4-4545-c9e5-25de092ff2b4",
        "colab": {
          "base_uri": "https://localhost:8080/"
        }
      },
      "outputs": [
        {
          "output_type": "execute_result",
          "data": {
            "text/plain": [
              "{'United Kingdom': 0,\n",
              " 'France': 1,\n",
              " 'Australia': 2,\n",
              " 'Netherlands': 3,\n",
              " 'Germany': 4,\n",
              " 'Norway': 5,\n",
              " 'EIRE': 6,\n",
              " 'Switzerland': 7,\n",
              " 'Spain': 8,\n",
              " 'Poland': 9,\n",
              " 'Portugal': 10,\n",
              " 'Italy': 11,\n",
              " 'Belgium': 12,\n",
              " 'Lithuania': 13,\n",
              " 'Japan': 14,\n",
              " 'Iceland': 15,\n",
              " 'Channel Islands': 16,\n",
              " 'Denmark': 17,\n",
              " 'Cyprus': 18,\n",
              " 'Sweden': 19,\n",
              " 'Austria': 20,\n",
              " 'Israel': 21,\n",
              " 'Finland': 22,\n",
              " 'Greece': 23,\n",
              " 'Singapore': 24,\n",
              " 'Lebanon': 25,\n",
              " 'United Arab Emirates': 26,\n",
              " 'Saudi Arabia': 27,\n",
              " 'Czech Republic': 28,\n",
              " 'Canada': 29,\n",
              " 'Unspecified': 30,\n",
              " 'Brazil': 31,\n",
              " 'USA': 32,\n",
              " 'European Community': 33,\n",
              " 'Bahrain': 34,\n",
              " 'Malta': 35}"
            ]
          },
          "metadata": {},
          "execution_count": 76
        }
      ],
      "source": [
        "#taking care of country\n",
        "countries_dic={}\n",
        "\n",
        "countries=train_set['Country'].unique()\n",
        "for i,y in enumerate(countries):\n",
        "    countries_dic[y]=i\n",
        "countries_dic\n"
      ]
    },
    {
      "cell_type": "markdown",
      "metadata": {
        "id": "Dk_Nw8h7o8na"
      },
      "source": [
        "## ASSIGNING COUNTRY CODES "
      ]
    },
    {
      "cell_type": "code",
      "execution_count": 77,
      "metadata": {
        "id": "ZmuqvznJo8na"
      },
      "outputs": [],
      "source": [
        "train_set['Country']=[countries_dic[x] for x in train_set['Country']]\n",
        "\n"
      ]
    },
    {
      "cell_type": "code",
      "execution_count": 78,
      "metadata": {
        "id": "Px4BsaG_o8na",
        "outputId": "31e4741e-c668-41cd-e5e2-9c40dafcefb7",
        "colab": {
          "base_uri": "https://localhost:8080/"
        }
      },
      "outputs": [
        {
          "output_type": "execute_result",
          "data": {
            "text/plain": [
              "array([ 0,  1,  2,  3,  4,  5,  6,  7,  8,  9, 10, 11, 12, 13, 14, 15, 16,\n",
              "       17, 18, 19, 20, 21, 22, 23, 24, 25, 26, 27, 28, 29, 30, 31, 32, 33,\n",
              "       34, 35])"
            ]
          },
          "metadata": {},
          "execution_count": 78
        }
      ],
      "source": [
        "train_set['Country'].unique()\n",
        "#we assign country codes instead of country names"
      ]
    },
    {
      "cell_type": "code",
      "execution_count": 79,
      "metadata": {
        "id": "k0-hQT5yo8nb",
        "outputId": "24e58e99-414f-4b1a-c2e4-493fc567e3fa",
        "colab": {
          "base_uri": "https://localhost:8080/",
          "height": 372
        }
      },
      "outputs": [
        {
          "output_type": "execute_result",
          "data": {
            "text/plain": [
              "  InvoiceNo StockCode                          Description  Quantity  \\\n",
              "0    536365    85123A   WHITE HANGING HEART T-LIGHT HOLDER         6   \n",
              "1    536365     71053                  WHITE METAL LANTERN         6   \n",
              "2    536365    84406B       CREAM CUPID HEARTS COAT HANGER         8   \n",
              "3    536365    84029G  KNITTED UNION FLAG HOT WATER BOTTLE         6   \n",
              "4    536365    84029E       RED WOOLLY HOTTIE WHITE HEART.         6   \n",
              "\n",
              "          InvoiceDate  UnitPrice  CustomerID  Country  isChurn  \n",
              "0 2010-12-01 08:26:00       2.55     17850.0        0        0  \n",
              "1 2010-12-01 08:26:00       3.39     17850.0        0        0  \n",
              "2 2010-12-01 08:26:00       2.75     17850.0        0        0  \n",
              "3 2010-12-01 08:26:00       3.39     17850.0        0        0  \n",
              "4 2010-12-01 08:26:00       3.39     17850.0        0        0  "
            ],
            "text/html": [
              "\n",
              "  <div id=\"df-a5df18b1-13c8-403a-8810-3613f0479ca7\">\n",
              "    <div class=\"colab-df-container\">\n",
              "      <div>\n",
              "<style scoped>\n",
              "    .dataframe tbody tr th:only-of-type {\n",
              "        vertical-align: middle;\n",
              "    }\n",
              "\n",
              "    .dataframe tbody tr th {\n",
              "        vertical-align: top;\n",
              "    }\n",
              "\n",
              "    .dataframe thead th {\n",
              "        text-align: right;\n",
              "    }\n",
              "</style>\n",
              "<table border=\"1\" class=\"dataframe\">\n",
              "  <thead>\n",
              "    <tr style=\"text-align: right;\">\n",
              "      <th></th>\n",
              "      <th>InvoiceNo</th>\n",
              "      <th>StockCode</th>\n",
              "      <th>Description</th>\n",
              "      <th>Quantity</th>\n",
              "      <th>InvoiceDate</th>\n",
              "      <th>UnitPrice</th>\n",
              "      <th>CustomerID</th>\n",
              "      <th>Country</th>\n",
              "      <th>isChurn</th>\n",
              "    </tr>\n",
              "  </thead>\n",
              "  <tbody>\n",
              "    <tr>\n",
              "      <th>0</th>\n",
              "      <td>536365</td>\n",
              "      <td>85123A</td>\n",
              "      <td>WHITE HANGING HEART T-LIGHT HOLDER</td>\n",
              "      <td>6</td>\n",
              "      <td>2010-12-01 08:26:00</td>\n",
              "      <td>2.55</td>\n",
              "      <td>17850.0</td>\n",
              "      <td>0</td>\n",
              "      <td>0</td>\n",
              "    </tr>\n",
              "    <tr>\n",
              "      <th>1</th>\n",
              "      <td>536365</td>\n",
              "      <td>71053</td>\n",
              "      <td>WHITE METAL LANTERN</td>\n",
              "      <td>6</td>\n",
              "      <td>2010-12-01 08:26:00</td>\n",
              "      <td>3.39</td>\n",
              "      <td>17850.0</td>\n",
              "      <td>0</td>\n",
              "      <td>0</td>\n",
              "    </tr>\n",
              "    <tr>\n",
              "      <th>2</th>\n",
              "      <td>536365</td>\n",
              "      <td>84406B</td>\n",
              "      <td>CREAM CUPID HEARTS COAT HANGER</td>\n",
              "      <td>8</td>\n",
              "      <td>2010-12-01 08:26:00</td>\n",
              "      <td>2.75</td>\n",
              "      <td>17850.0</td>\n",
              "      <td>0</td>\n",
              "      <td>0</td>\n",
              "    </tr>\n",
              "    <tr>\n",
              "      <th>3</th>\n",
              "      <td>536365</td>\n",
              "      <td>84029G</td>\n",
              "      <td>KNITTED UNION FLAG HOT WATER BOTTLE</td>\n",
              "      <td>6</td>\n",
              "      <td>2010-12-01 08:26:00</td>\n",
              "      <td>3.39</td>\n",
              "      <td>17850.0</td>\n",
              "      <td>0</td>\n",
              "      <td>0</td>\n",
              "    </tr>\n",
              "    <tr>\n",
              "      <th>4</th>\n",
              "      <td>536365</td>\n",
              "      <td>84029E</td>\n",
              "      <td>RED WOOLLY HOTTIE WHITE HEART.</td>\n",
              "      <td>6</td>\n",
              "      <td>2010-12-01 08:26:00</td>\n",
              "      <td>3.39</td>\n",
              "      <td>17850.0</td>\n",
              "      <td>0</td>\n",
              "      <td>0</td>\n",
              "    </tr>\n",
              "  </tbody>\n",
              "</table>\n",
              "</div>\n",
              "      <button class=\"colab-df-convert\" onclick=\"convertToInteractive('df-a5df18b1-13c8-403a-8810-3613f0479ca7')\"\n",
              "              title=\"Convert this dataframe to an interactive table.\"\n",
              "              style=\"display:none;\">\n",
              "        \n",
              "  <svg xmlns=\"http://www.w3.org/2000/svg\" height=\"24px\"viewBox=\"0 0 24 24\"\n",
              "       width=\"24px\">\n",
              "    <path d=\"M0 0h24v24H0V0z\" fill=\"none\"/>\n",
              "    <path d=\"M18.56 5.44l.94 2.06.94-2.06 2.06-.94-2.06-.94-.94-2.06-.94 2.06-2.06.94zm-11 1L8.5 8.5l.94-2.06 2.06-.94-2.06-.94L8.5 2.5l-.94 2.06-2.06.94zm10 10l.94 2.06.94-2.06 2.06-.94-2.06-.94-.94-2.06-.94 2.06-2.06.94z\"/><path d=\"M17.41 7.96l-1.37-1.37c-.4-.4-.92-.59-1.43-.59-.52 0-1.04.2-1.43.59L10.3 9.45l-7.72 7.72c-.78.78-.78 2.05 0 2.83L4 21.41c.39.39.9.59 1.41.59.51 0 1.02-.2 1.41-.59l7.78-7.78 2.81-2.81c.8-.78.8-2.07 0-2.86zM5.41 20L4 18.59l7.72-7.72 1.47 1.35L5.41 20z\"/>\n",
              "  </svg>\n",
              "      </button>\n",
              "      \n",
              "  <style>\n",
              "    .colab-df-container {\n",
              "      display:flex;\n",
              "      flex-wrap:wrap;\n",
              "      gap: 12px;\n",
              "    }\n",
              "\n",
              "    .colab-df-convert {\n",
              "      background-color: #E8F0FE;\n",
              "      border: none;\n",
              "      border-radius: 50%;\n",
              "      cursor: pointer;\n",
              "      display: none;\n",
              "      fill: #1967D2;\n",
              "      height: 32px;\n",
              "      padding: 0 0 0 0;\n",
              "      width: 32px;\n",
              "    }\n",
              "\n",
              "    .colab-df-convert:hover {\n",
              "      background-color: #E2EBFA;\n",
              "      box-shadow: 0px 1px 2px rgba(60, 64, 67, 0.3), 0px 1px 3px 1px rgba(60, 64, 67, 0.15);\n",
              "      fill: #174EA6;\n",
              "    }\n",
              "\n",
              "    [theme=dark] .colab-df-convert {\n",
              "      background-color: #3B4455;\n",
              "      fill: #D2E3FC;\n",
              "    }\n",
              "\n",
              "    [theme=dark] .colab-df-convert:hover {\n",
              "      background-color: #434B5C;\n",
              "      box-shadow: 0px 1px 3px 1px rgba(0, 0, 0, 0.15);\n",
              "      filter: drop-shadow(0px 1px 2px rgba(0, 0, 0, 0.3));\n",
              "      fill: #FFFFFF;\n",
              "    }\n",
              "  </style>\n",
              "\n",
              "      <script>\n",
              "        const buttonEl =\n",
              "          document.querySelector('#df-a5df18b1-13c8-403a-8810-3613f0479ca7 button.colab-df-convert');\n",
              "        buttonEl.style.display =\n",
              "          google.colab.kernel.accessAllowed ? 'block' : 'none';\n",
              "\n",
              "        async function convertToInteractive(key) {\n",
              "          const element = document.querySelector('#df-a5df18b1-13c8-403a-8810-3613f0479ca7');\n",
              "          const dataTable =\n",
              "            await google.colab.kernel.invokeFunction('convertToInteractive',\n",
              "                                                     [key], {});\n",
              "          if (!dataTable) return;\n",
              "\n",
              "          const docLinkHtml = 'Like what you see? Visit the ' +\n",
              "            '<a target=\"_blank\" href=https://colab.research.google.com/notebooks/data_table.ipynb>data table notebook</a>'\n",
              "            + ' to learn more about interactive tables.';\n",
              "          element.innerHTML = '';\n",
              "          dataTable['output_type'] = 'display_data';\n",
              "          await google.colab.output.renderOutput(dataTable, element);\n",
              "          const docLink = document.createElement('div');\n",
              "          docLink.innerHTML = docLinkHtml;\n",
              "          element.appendChild(docLink);\n",
              "        }\n",
              "      </script>\n",
              "    </div>\n",
              "  </div>\n",
              "  "
            ]
          },
          "metadata": {},
          "execution_count": 79
        }
      ],
      "source": [
        "\n",
        "train_set.head()"
      ]
    },
    {
      "cell_type": "code",
      "execution_count": 80,
      "metadata": {
        "id": "C68HjmTno8nb",
        "outputId": "68fca133-ccf7-44a0-fd69-e8091cdf0128",
        "colab": {
          "base_uri": "https://localhost:8080/"
        }
      },
      "outputs": [
        {
          "output_type": "execute_result",
          "data": {
            "text/plain": [
              "InvoiceNo      231183\n",
              "StockCode      231183\n",
              "Description    231183\n",
              "Quantity       231183\n",
              "InvoiceDate    231183\n",
              "UnitPrice      231183\n",
              "CustomerID     231183\n",
              "Country        231183\n",
              "isChurn        231183\n",
              "dtype: int64"
            ]
          },
          "metadata": {},
          "execution_count": 80
        }
      ],
      "source": [
        "train_set.count()"
      ]
    },
    {
      "cell_type": "code",
      "execution_count": 81,
      "metadata": {
        "id": "nzWrztUYo8nb",
        "outputId": "ee36362c-1b09-4dfc-f694-9629954d6515",
        "colab": {
          "base_uri": "https://localhost:8080/"
        }
      },
      "outputs": [
        {
          "output_type": "execute_result",
          "data": {
            "text/plain": [
              "Index(['InvoiceNo', 'StockCode', 'Description', 'Quantity', 'InvoiceDate',\n",
              "       'UnitPrice', 'CustomerID', 'Country', 'isChurn'],\n",
              "      dtype='object')"
            ]
          },
          "metadata": {},
          "execution_count": 81
        }
      ],
      "source": [
        "train_set.columns"
      ]
    },
    {
      "cell_type": "markdown",
      "metadata": {
        "id": "8CjMdqtOo8nb"
      },
      "source": [
        "## USING STOCKCODE AS A FEATURE"
      ]
    },
    {
      "cell_type": "code",
      "execution_count": 82,
      "metadata": {
        "id": "qV-3_Efzo8nc",
        "outputId": "0bb95686-4af7-4f87-ee11-6185dc82eed4",
        "colab": {
          "base_uri": "https://localhost:8080/"
        }
      },
      "outputs": [
        {
          "output_type": "execute_result",
          "data": {
            "text/plain": [
              "3412"
            ]
          },
          "metadata": {},
          "execution_count": 82
        }
      ],
      "source": [
        "len(train_set['StockCode'].unique())"
      ]
    },
    {
      "cell_type": "markdown",
      "metadata": {
        "id": "K1brysF9o8nc"
      },
      "source": [
        "### DROPPING DESCRIPTION AS IT IS IRRELEVANT\n"
      ]
    },
    {
      "cell_type": "code",
      "execution_count": 83,
      "metadata": {
        "id": "K_bYS05_o8nc"
      },
      "outputs": [],
      "source": [
        "train_set=train_set.drop(['Description'],axis=1)"
      ]
    },
    {
      "cell_type": "code",
      "execution_count": 84,
      "metadata": {
        "id": "M6sOrhsOo8nc",
        "outputId": "e210a633-47a9-49ae-e1be-2ba4b48a1dba",
        "colab": {
          "base_uri": "https://localhost:8080/"
        }
      },
      "outputs": [
        {
          "output_type": "stream",
          "name": "stderr",
          "text": [
            "/usr/local/lib/python3.7/dist-packages/ipykernel_launcher.py:4: FutureWarning: The default value of regex will change from True to False in a future version.\n",
            "  after removing the cwd from sys.path.\n"
          ]
        }
      ],
      "source": [
        "#stock code has some letters\n",
        "#lets remove them and use it as a feature\n",
        "\n",
        "train_set['StockCode']=train_set['StockCode'].str.replace('\\D', '')\n",
        "\n",
        "    "
      ]
    },
    {
      "cell_type": "code",
      "execution_count": 85,
      "metadata": {
        "id": "WqVKrVfzo8nc"
      },
      "outputs": [],
      "source": [
        "train_set=train_set[train_set['StockCode']!='']"
      ]
    },
    {
      "cell_type": "code",
      "execution_count": 86,
      "metadata": {
        "id": "PXsm5wvIo8nc",
        "colab": {
          "base_uri": "https://localhost:8080/"
        },
        "outputId": "64540c60-61fc-400d-fae9-69b61e7201f6"
      },
      "outputs": [
        {
          "output_type": "stream",
          "name": "stderr",
          "text": [
            "/usr/local/lib/python3.7/dist-packages/ipykernel_launcher.py:1: SettingWithCopyWarning: \n",
            "A value is trying to be set on a copy of a slice from a DataFrame.\n",
            "Try using .loc[row_indexer,col_indexer] = value instead\n",
            "\n",
            "See the caveats in the documentation: https://pandas.pydata.org/pandas-docs/stable/user_guide/indexing.html#returning-a-view-versus-a-copy\n",
            "  \"\"\"Entry point for launching an IPython kernel.\n"
          ]
        }
      ],
      "source": [
        "train_set['StockCode']=train_set['StockCode'].astype(int)"
      ]
    },
    {
      "cell_type": "code",
      "execution_count": 87,
      "metadata": {
        "id": "jjs8HzOdo8nd",
        "outputId": "b6a7514a-f4ee-4edf-ec55-0ca9c485a8eb",
        "colab": {
          "base_uri": "https://localhost:8080/",
          "height": 424
        }
      },
      "outputs": [
        {
          "output_type": "execute_result",
          "data": {
            "text/plain": [
              "       InvoiceNo  StockCode  Quantity         InvoiceDate  UnitPrice  \\\n",
              "0         536365      85123         6 2010-12-01 08:26:00       2.55   \n",
              "1         536365      71053         6 2010-12-01 08:26:00       3.39   \n",
              "2         536365      84406         8 2010-12-01 08:26:00       2.75   \n",
              "3         536365      84029         6 2010-12-01 08:26:00       3.39   \n",
              "4         536365      84029         6 2010-12-01 08:26:00       3.39   \n",
              "...          ...        ...       ...                 ...        ...   \n",
              "319395    564852      82552        10 2011-08-30 17:23:00       1.45   \n",
              "319396    564852      21756         3 2011-08-30 17:23:00       5.95   \n",
              "319397    564852      21908         7 2011-08-30 17:23:00       2.10   \n",
              "319398    564852      22116        10 2011-08-30 17:23:00       0.79   \n",
              "319399    564852      23091         2 2011-08-30 17:23:00       6.25   \n",
              "\n",
              "        CustomerID  Country  isChurn  \n",
              "0          17850.0        0        0  \n",
              "1          17850.0        0        0  \n",
              "2          17850.0        0        0  \n",
              "3          17850.0        0        0  \n",
              "4          17850.0        0        0  \n",
              "...            ...      ...      ...  \n",
              "319395     14976.0        0        1  \n",
              "319396     14976.0        0        1  \n",
              "319397     14976.0        0        1  \n",
              "319398     14976.0        0        1  \n",
              "319399     14976.0        0        1  \n",
              "\n",
              "[230128 rows x 8 columns]"
            ],
            "text/html": [
              "\n",
              "  <div id=\"df-b48740a4-b149-4e8a-a654-1ef425fc125f\">\n",
              "    <div class=\"colab-df-container\">\n",
              "      <div>\n",
              "<style scoped>\n",
              "    .dataframe tbody tr th:only-of-type {\n",
              "        vertical-align: middle;\n",
              "    }\n",
              "\n",
              "    .dataframe tbody tr th {\n",
              "        vertical-align: top;\n",
              "    }\n",
              "\n",
              "    .dataframe thead th {\n",
              "        text-align: right;\n",
              "    }\n",
              "</style>\n",
              "<table border=\"1\" class=\"dataframe\">\n",
              "  <thead>\n",
              "    <tr style=\"text-align: right;\">\n",
              "      <th></th>\n",
              "      <th>InvoiceNo</th>\n",
              "      <th>StockCode</th>\n",
              "      <th>Quantity</th>\n",
              "      <th>InvoiceDate</th>\n",
              "      <th>UnitPrice</th>\n",
              "      <th>CustomerID</th>\n",
              "      <th>Country</th>\n",
              "      <th>isChurn</th>\n",
              "    </tr>\n",
              "  </thead>\n",
              "  <tbody>\n",
              "    <tr>\n",
              "      <th>0</th>\n",
              "      <td>536365</td>\n",
              "      <td>85123</td>\n",
              "      <td>6</td>\n",
              "      <td>2010-12-01 08:26:00</td>\n",
              "      <td>2.55</td>\n",
              "      <td>17850.0</td>\n",
              "      <td>0</td>\n",
              "      <td>0</td>\n",
              "    </tr>\n",
              "    <tr>\n",
              "      <th>1</th>\n",
              "      <td>536365</td>\n",
              "      <td>71053</td>\n",
              "      <td>6</td>\n",
              "      <td>2010-12-01 08:26:00</td>\n",
              "      <td>3.39</td>\n",
              "      <td>17850.0</td>\n",
              "      <td>0</td>\n",
              "      <td>0</td>\n",
              "    </tr>\n",
              "    <tr>\n",
              "      <th>2</th>\n",
              "      <td>536365</td>\n",
              "      <td>84406</td>\n",
              "      <td>8</td>\n",
              "      <td>2010-12-01 08:26:00</td>\n",
              "      <td>2.75</td>\n",
              "      <td>17850.0</td>\n",
              "      <td>0</td>\n",
              "      <td>0</td>\n",
              "    </tr>\n",
              "    <tr>\n",
              "      <th>3</th>\n",
              "      <td>536365</td>\n",
              "      <td>84029</td>\n",
              "      <td>6</td>\n",
              "      <td>2010-12-01 08:26:00</td>\n",
              "      <td>3.39</td>\n",
              "      <td>17850.0</td>\n",
              "      <td>0</td>\n",
              "      <td>0</td>\n",
              "    </tr>\n",
              "    <tr>\n",
              "      <th>4</th>\n",
              "      <td>536365</td>\n",
              "      <td>84029</td>\n",
              "      <td>6</td>\n",
              "      <td>2010-12-01 08:26:00</td>\n",
              "      <td>3.39</td>\n",
              "      <td>17850.0</td>\n",
              "      <td>0</td>\n",
              "      <td>0</td>\n",
              "    </tr>\n",
              "    <tr>\n",
              "      <th>...</th>\n",
              "      <td>...</td>\n",
              "      <td>...</td>\n",
              "      <td>...</td>\n",
              "      <td>...</td>\n",
              "      <td>...</td>\n",
              "      <td>...</td>\n",
              "      <td>...</td>\n",
              "      <td>...</td>\n",
              "    </tr>\n",
              "    <tr>\n",
              "      <th>319395</th>\n",
              "      <td>564852</td>\n",
              "      <td>82552</td>\n",
              "      <td>10</td>\n",
              "      <td>2011-08-30 17:23:00</td>\n",
              "      <td>1.45</td>\n",
              "      <td>14976.0</td>\n",
              "      <td>0</td>\n",
              "      <td>1</td>\n",
              "    </tr>\n",
              "    <tr>\n",
              "      <th>319396</th>\n",
              "      <td>564852</td>\n",
              "      <td>21756</td>\n",
              "      <td>3</td>\n",
              "      <td>2011-08-30 17:23:00</td>\n",
              "      <td>5.95</td>\n",
              "      <td>14976.0</td>\n",
              "      <td>0</td>\n",
              "      <td>1</td>\n",
              "    </tr>\n",
              "    <tr>\n",
              "      <th>319397</th>\n",
              "      <td>564852</td>\n",
              "      <td>21908</td>\n",
              "      <td>7</td>\n",
              "      <td>2011-08-30 17:23:00</td>\n",
              "      <td>2.10</td>\n",
              "      <td>14976.0</td>\n",
              "      <td>0</td>\n",
              "      <td>1</td>\n",
              "    </tr>\n",
              "    <tr>\n",
              "      <th>319398</th>\n",
              "      <td>564852</td>\n",
              "      <td>22116</td>\n",
              "      <td>10</td>\n",
              "      <td>2011-08-30 17:23:00</td>\n",
              "      <td>0.79</td>\n",
              "      <td>14976.0</td>\n",
              "      <td>0</td>\n",
              "      <td>1</td>\n",
              "    </tr>\n",
              "    <tr>\n",
              "      <th>319399</th>\n",
              "      <td>564852</td>\n",
              "      <td>23091</td>\n",
              "      <td>2</td>\n",
              "      <td>2011-08-30 17:23:00</td>\n",
              "      <td>6.25</td>\n",
              "      <td>14976.0</td>\n",
              "      <td>0</td>\n",
              "      <td>1</td>\n",
              "    </tr>\n",
              "  </tbody>\n",
              "</table>\n",
              "<p>230128 rows × 8 columns</p>\n",
              "</div>\n",
              "      <button class=\"colab-df-convert\" onclick=\"convertToInteractive('df-b48740a4-b149-4e8a-a654-1ef425fc125f')\"\n",
              "              title=\"Convert this dataframe to an interactive table.\"\n",
              "              style=\"display:none;\">\n",
              "        \n",
              "  <svg xmlns=\"http://www.w3.org/2000/svg\" height=\"24px\"viewBox=\"0 0 24 24\"\n",
              "       width=\"24px\">\n",
              "    <path d=\"M0 0h24v24H0V0z\" fill=\"none\"/>\n",
              "    <path d=\"M18.56 5.44l.94 2.06.94-2.06 2.06-.94-2.06-.94-.94-2.06-.94 2.06-2.06.94zm-11 1L8.5 8.5l.94-2.06 2.06-.94-2.06-.94L8.5 2.5l-.94 2.06-2.06.94zm10 10l.94 2.06.94-2.06 2.06-.94-2.06-.94-.94-2.06-.94 2.06-2.06.94z\"/><path d=\"M17.41 7.96l-1.37-1.37c-.4-.4-.92-.59-1.43-.59-.52 0-1.04.2-1.43.59L10.3 9.45l-7.72 7.72c-.78.78-.78 2.05 0 2.83L4 21.41c.39.39.9.59 1.41.59.51 0 1.02-.2 1.41-.59l7.78-7.78 2.81-2.81c.8-.78.8-2.07 0-2.86zM5.41 20L4 18.59l7.72-7.72 1.47 1.35L5.41 20z\"/>\n",
              "  </svg>\n",
              "      </button>\n",
              "      \n",
              "  <style>\n",
              "    .colab-df-container {\n",
              "      display:flex;\n",
              "      flex-wrap:wrap;\n",
              "      gap: 12px;\n",
              "    }\n",
              "\n",
              "    .colab-df-convert {\n",
              "      background-color: #E8F0FE;\n",
              "      border: none;\n",
              "      border-radius: 50%;\n",
              "      cursor: pointer;\n",
              "      display: none;\n",
              "      fill: #1967D2;\n",
              "      height: 32px;\n",
              "      padding: 0 0 0 0;\n",
              "      width: 32px;\n",
              "    }\n",
              "\n",
              "    .colab-df-convert:hover {\n",
              "      background-color: #E2EBFA;\n",
              "      box-shadow: 0px 1px 2px rgba(60, 64, 67, 0.3), 0px 1px 3px 1px rgba(60, 64, 67, 0.15);\n",
              "      fill: #174EA6;\n",
              "    }\n",
              "\n",
              "    [theme=dark] .colab-df-convert {\n",
              "      background-color: #3B4455;\n",
              "      fill: #D2E3FC;\n",
              "    }\n",
              "\n",
              "    [theme=dark] .colab-df-convert:hover {\n",
              "      background-color: #434B5C;\n",
              "      box-shadow: 0px 1px 3px 1px rgba(0, 0, 0, 0.15);\n",
              "      filter: drop-shadow(0px 1px 2px rgba(0, 0, 0, 0.3));\n",
              "      fill: #FFFFFF;\n",
              "    }\n",
              "  </style>\n",
              "\n",
              "      <script>\n",
              "        const buttonEl =\n",
              "          document.querySelector('#df-b48740a4-b149-4e8a-a654-1ef425fc125f button.colab-df-convert');\n",
              "        buttonEl.style.display =\n",
              "          google.colab.kernel.accessAllowed ? 'block' : 'none';\n",
              "\n",
              "        async function convertToInteractive(key) {\n",
              "          const element = document.querySelector('#df-b48740a4-b149-4e8a-a654-1ef425fc125f');\n",
              "          const dataTable =\n",
              "            await google.colab.kernel.invokeFunction('convertToInteractive',\n",
              "                                                     [key], {});\n",
              "          if (!dataTable) return;\n",
              "\n",
              "          const docLinkHtml = 'Like what you see? Visit the ' +\n",
              "            '<a target=\"_blank\" href=https://colab.research.google.com/notebooks/data_table.ipynb>data table notebook</a>'\n",
              "            + ' to learn more about interactive tables.';\n",
              "          element.innerHTML = '';\n",
              "          dataTable['output_type'] = 'display_data';\n",
              "          await google.colab.output.renderOutput(dataTable, element);\n",
              "          const docLink = document.createElement('div');\n",
              "          docLink.innerHTML = docLinkHtml;\n",
              "          element.appendChild(docLink);\n",
              "        }\n",
              "      </script>\n",
              "    </div>\n",
              "  </div>\n",
              "  "
            ]
          },
          "metadata": {},
          "execution_count": 87
        }
      ],
      "source": [
        "train_set"
      ]
    },
    {
      "cell_type": "markdown",
      "metadata": {
        "id": "YVRDWl4Zo8nd"
      },
      "source": [
        "### DROPPING INVOICE NUMBER AS IT IS IRRELEVANT\n"
      ]
    },
    {
      "cell_type": "code",
      "execution_count": 88,
      "metadata": {
        "id": "VP3CExI3o8nd",
        "colab": {
          "base_uri": "https://localhost:8080/"
        },
        "outputId": "926400e1-ff3e-44b3-a886-38cb16767902"
      },
      "outputs": [
        {
          "output_type": "stream",
          "name": "stderr",
          "text": [
            "/usr/local/lib/python3.7/dist-packages/ipykernel_launcher.py:1: SettingWithCopyWarning: \n",
            "A value is trying to be set on a copy of a slice from a DataFrame.\n",
            "Try using .loc[row_indexer,col_indexer] = value instead\n",
            "\n",
            "See the caveats in the documentation: https://pandas.pydata.org/pandas-docs/stable/user_guide/indexing.html#returning-a-view-versus-a-copy\n",
            "  \"\"\"Entry point for launching an IPython kernel.\n"
          ]
        }
      ],
      "source": [
        "train_set['CustomerID']=train_set['CustomerID'].astype(int)\n",
        "\n",
        "# Dropping invoice no\n",
        "train_set=train_set.drop(['InvoiceNo'],axis=1)"
      ]
    },
    {
      "cell_type": "markdown",
      "metadata": {
        "id": "z6vPzhgRo8nd"
      },
      "source": [
        "## USING DATE AS A FEATURE"
      ]
    },
    {
      "cell_type": "code",
      "execution_count": 89,
      "metadata": {
        "id": "MlaEkfuKo8nd"
      },
      "outputs": [],
      "source": [
        "#converting date to features\n",
        "\n",
        "train_set['month']=train_set['InvoiceDate'].dt.month.astype(int)\n",
        "train_set['year']=train_set['InvoiceDate'].dt.year.astype(int)\n",
        "train_set['day']=train_set['InvoiceDate'].dt.day.astype(int)\n",
        "train_set['hour']=train_set['InvoiceDate'].dt.hour.astype(int)\n",
        "\n",
        "train_set=train_set.drop(['InvoiceDate'],axis=1)"
      ]
    },
    {
      "cell_type": "code",
      "execution_count": 90,
      "metadata": {
        "id": "f-Lf-q2Eo8nd",
        "colab": {
          "base_uri": "https://localhost:8080/"
        },
        "outputId": "d19b0bab-9931-40b0-bcc4-c8758b5209ed"
      },
      "outputs": [
        {
          "output_type": "execute_result",
          "data": {
            "text/plain": [
              "Index(['StockCode', 'Quantity', 'UnitPrice', 'CustomerID', 'Country',\n",
              "       'isChurn', 'month', 'year', 'day', 'hour'],\n",
              "      dtype='object')"
            ]
          },
          "metadata": {},
          "execution_count": 90
        }
      ],
      "source": [
        "train_set.columns"
      ]
    },
    {
      "cell_type": "code",
      "execution_count": 91,
      "metadata": {
        "id": "r-vW4rbbo8ne",
        "outputId": "d580003a-5935-4495-9b9c-4eac7c61ba05",
        "colab": {
          "base_uri": "https://localhost:8080/",
          "height": 1000
        }
      },
      "outputs": [
        {
          "output_type": "execute_result",
          "data": {
            "text/plain": [
              "<seaborn.axisgrid.JointGrid at 0x7fddd7670850>"
            ]
          },
          "metadata": {},
          "execution_count": 91
        },
        {
          "output_type": "display_data",
          "data": {
            "text/plain": [
              "<Figure size 432x432 with 3 Axes>"
            ],
            "image/png": "[encoded data removed]"
          },
          "metadata": {
            "needs_background": "light"
          }
        },
        {
          "output_type": "display_data",
          "data": {
            "text/plain": [
              "<Figure size 432x432 with 3 Axes>"
            ],
            "image/png": "[encoded data removed]"
          },
          "metadata": {
            "needs_background": "light"
          }
        },
        {
          "output_type": "display_data",
          "data": {
            "text/plain": [
              "<Figure size 432x432 with 3 Axes>"
            ],
            "image/png": "[encoded data removed]"
          },
          "metadata": {
            "needs_background": "light"
          }
        },
        {
          "output_type": "display_data",
          "data": {
            "text/plain": [
              "<Figure size 432x432 with 3 Axes>"
            ],
            "image/png": "[encoded data removed]"
          },
          "metadata": {
            "needs_background": "light"
          }
        },
        {
          "output_type": "display_data",
          "data": {
            "text/plain": [
              "<Figure size 432x432 with 3 Axes>"
            ],
            "image/png": "[encoded data removed]"
          },
          "metadata": {
            "needs_background": "light"
          }
        },
        {
          "output_type": "display_data",
          "data": {
            "text/plain": [
              "<Figure size 432x432 with 3 Axes>"
            ],
            "image/png": "[encoded data removed]"
          },
          "metadata": {
            "needs_background": "light"
          }
        },
        {
          "output_type": "display_data",
          "data": {
            "text/plain": [
              "<Figure size 432x432 with 3 Axes>"
            ],
            "image/png": "[encoded data removed]"
          },
          "metadata": {
            "needs_background": "light"
          }
        },
        {
          "output_type": "display_data",
          "data": {
            "text/plain": [
              "<Figure size 432x432 with 3 Axes>"
            ],
            "image/png": "[encoded data removed]"
          },
          "metadata": {
            "needs_background": "light"
          }
        }
      ],
      "source": [
        "sns.jointplot(data=train_set, x='Country', y='isChurn', kind='reg', color='g')\n",
        "sns.jointplot(data=train_set, x='StockCode', y='isChurn', kind='reg', color='g')\n",
        "sns.jointplot(data=train_set, x='month', y='isChurn', kind='reg', color='g')\n",
        "sns.jointplot(data=train_set, x='year', y='isChurn', kind='reg', color='g')\n",
        "sns.jointplot(data=train_set, x='day', y='isChurn', kind='reg', color='g')\n",
        "sns.jointplot(data=train_set, x='hour', y='isChurn', kind='reg', color='g')\n",
        "sns.jointplot(data=train_set, x='UnitPrice', y='isChurn', kind='reg', color='g')\n",
        "sns.jointplot(data=train_set, x='CustomerID', y='isChurn', kind='reg', color='g')\n",
        "#sns.jointplot(data=train_set, x='Quantity', y='isChurn', kind='reg', color='g')"
      ]
    },
    {
      "cell_type": "code",
      "execution_count": 92,
      "metadata": {
        "id": "_sX7JCGzo8ne",
        "outputId": "d03c9554-952c-4f70-c0a3-5c3d407f22bc",
        "colab": {
          "base_uri": "https://localhost:8080/",
          "height": 335
        }
      },
      "outputs": [
        {
          "output_type": "execute_result",
          "data": {
            "text/plain": [
              "<matplotlib.axes._subplots.AxesSubplot at 0x7fddd6a25dd0>"
            ]
          },
          "metadata": {},
          "execution_count": 92
        },
        {
          "output_type": "display_data",
          "data": {
            "text/plain": [
              "<Figure size 432x288 with 2 Axes>"
            ],
            "image/png": "[encoded data removed]"
          },
          "metadata": {
            "needs_background": "light"
          }
        }
      ],
      "source": [
        "sns.heatmap(train_set.corr())"
      ]
    },
    {
      "cell_type": "code",
      "execution_count": 93,
      "metadata": {
        "id": "dTSlASLco8ne",
        "outputId": "19764681-4e3f-45af-c6a2-bc3695d06fda",
        "colab": {
          "base_uri": "https://localhost:8080/",
          "height": 424
        }
      },
      "outputs": [
        {
          "output_type": "execute_result",
          "data": {
            "text/plain": [
              "        StockCode  Quantity  UnitPrice  CustomerID  Country  isChurn  \\\n",
              "0        0.943566 -0.029790  -0.091041    0.926443      0.0        0   \n",
              "1        0.787600 -0.029790   0.069807    0.926443      0.0        0   \n",
              "2        0.935618 -0.020883  -0.052744    0.926443      0.0        0   \n",
              "3        0.931439 -0.029790   0.069807    0.926443      0.0        0   \n",
              "4        0.931439 -0.029790   0.069807    0.926443      0.0        0   \n",
              "...           ...       ...        ...         ...      ...      ...   \n",
              "319395   0.915067 -0.011977  -0.301675    0.442686      0.0        1   \n",
              "319396   0.241143 -0.043149   0.560010    0.442686      0.0        1   \n",
              "319397   0.242828 -0.025336  -0.177209    0.442686      0.0        1   \n",
              "319398   0.245134 -0.011977  -0.428055    0.442686      0.0        1   \n",
              "319399   0.255942 -0.047602   0.617455    0.442686      0.0        1   \n",
              "\n",
              "           month       day      hour  \n",
              "0       2.050745 -1.649149 -2.013723  \n",
              "1       2.050745 -1.649149 -2.013723  \n",
              "2       2.050745 -1.649149 -2.013723  \n",
              "3       2.050745 -1.649149 -2.013723  \n",
              "4       2.050745 -1.649149 -2.013723  \n",
              "...          ...       ...       ...  \n",
              "319395  0.781881  1.797567  1.879415  \n",
              "319396  0.781881  1.797567  1.879415  \n",
              "319397  0.781881  1.797567  1.879415  \n",
              "319398  0.781881  1.797567  1.879415  \n",
              "319399  0.781881  1.797567  1.879415  \n",
              "\n",
              "[230128 rows x 9 columns]"
            ],
            "text/html": [
              "\n",
              "  <div id=\"df-f76fa94e-ac6d-427a-b643-97c12584c6d8\">\n",
              "    <div class=\"colab-df-container\">\n",
              "      <div>\n",
              "<style scoped>\n",
              "    .dataframe tbody tr th:only-of-type {\n",
              "        vertical-align: middle;\n",
              "    }\n",
              "\n",
              "    .dataframe tbody tr th {\n",
              "        vertical-align: top;\n",
              "    }\n",
              "\n",
              "    .dataframe thead th {\n",
              "        text-align: right;\n",
              "    }\n",
              "</style>\n",
              "<table border=\"1\" class=\"dataframe\">\n",
              "  <thead>\n",
              "    <tr style=\"text-align: right;\">\n",
              "      <th></th>\n",
              "      <th>StockCode</th>\n",
              "      <th>Quantity</th>\n",
              "      <th>UnitPrice</th>\n",
              "      <th>CustomerID</th>\n",
              "      <th>Country</th>\n",
              "      <th>isChurn</th>\n",
              "      <th>month</th>\n",
              "      <th>day</th>\n",
              "      <th>hour</th>\n",
              "    </tr>\n",
              "  </thead>\n",
              "  <tbody>\n",
              "    <tr>\n",
              "      <th>0</th>\n",
              "      <td>0.943566</td>\n",
              "      <td>-0.029790</td>\n",
              "      <td>-0.091041</td>\n",
              "      <td>0.926443</td>\n",
              "      <td>0.0</td>\n",
              "      <td>0</td>\n",
              "      <td>2.050745</td>\n",
              "      <td>-1.649149</td>\n",
              "      <td>-2.013723</td>\n",
              "    </tr>\n",
              "    <tr>\n",
              "      <th>1</th>\n",
              "      <td>0.787600</td>\n",
              "      <td>-0.029790</td>\n",
              "      <td>0.069807</td>\n",
              "      <td>0.926443</td>\n",
              "      <td>0.0</td>\n",
              "      <td>0</td>\n",
              "      <td>2.050745</td>\n",
              "      <td>-1.649149</td>\n",
              "      <td>-2.013723</td>\n",
              "    </tr>\n",
              "    <tr>\n",
              "      <th>2</th>\n",
              "      <td>0.935618</td>\n",
              "      <td>-0.020883</td>\n",
              "      <td>-0.052744</td>\n",
              "      <td>0.926443</td>\n",
              "      <td>0.0</td>\n",
              "      <td>0</td>\n",
              "      <td>2.050745</td>\n",
              "      <td>-1.649149</td>\n",
              "      <td>-2.013723</td>\n",
              "    </tr>\n",
              "    <tr>\n",
              "      <th>3</th>\n",
              "      <td>0.931439</td>\n",
              "      <td>-0.029790</td>\n",
              "      <td>0.069807</td>\n",
              "      <td>0.926443</td>\n",
              "      <td>0.0</td>\n",
              "      <td>0</td>\n",
              "      <td>2.050745</td>\n",
              "      <td>-1.649149</td>\n",
              "      <td>-2.013723</td>\n",
              "    </tr>\n",
              "    <tr>\n",
              "      <th>4</th>\n",
              "      <td>0.931439</td>\n",
              "      <td>-0.029790</td>\n",
              "      <td>0.069807</td>\n",
              "      <td>0.926443</td>\n",
              "      <td>0.0</td>\n",
              "      <td>0</td>\n",
              "      <td>2.050745</td>\n",
              "      <td>-1.649149</td>\n",
              "      <td>-2.013723</td>\n",
              "    </tr>\n",
              "    <tr>\n",
              "      <th>...</th>\n",
              "      <td>...</td>\n",
              "      <td>...</td>\n",
              "      <td>...</td>\n",
              "      <td>...</td>\n",
              "      <td>...</td>\n",
              "      <td>...</td>\n",
              "      <td>...</td>\n",
              "      <td>...</td>\n",
              "      <td>...</td>\n",
              "    </tr>\n",
              "    <tr>\n",
              "      <th>319395</th>\n",
              "      <td>0.915067</td>\n",
              "      <td>-0.011977</td>\n",
              "      <td>-0.301675</td>\n",
              "      <td>0.442686</td>\n",
              "      <td>0.0</td>\n",
              "      <td>1</td>\n",
              "      <td>0.781881</td>\n",
              "      <td>1.797567</td>\n",
              "      <td>1.879415</td>\n",
              "    </tr>\n",
              "    <tr>\n",
              "      <th>319396</th>\n",
              "      <td>0.241143</td>\n",
              "      <td>-0.043149</td>\n",
              "      <td>0.560010</td>\n",
              "      <td>0.442686</td>\n",
              "      <td>0.0</td>\n",
              "      <td>1</td>\n",
              "      <td>0.781881</td>\n",
              "      <td>1.797567</td>\n",
              "      <td>1.879415</td>\n",
              "    </tr>\n",
              "    <tr>\n",
              "      <th>319397</th>\n",
              "      <td>0.242828</td>\n",
              "      <td>-0.025336</td>\n",
              "      <td>-0.177209</td>\n",
              "      <td>0.442686</td>\n",
              "      <td>0.0</td>\n",
              "      <td>1</td>\n",
              "      <td>0.781881</td>\n",
              "      <td>1.797567</td>\n",
              "      <td>1.879415</td>\n",
              "    </tr>\n",
              "    <tr>\n",
              "      <th>319398</th>\n",
              "      <td>0.245134</td>\n",
              "      <td>-0.011977</td>\n",
              "      <td>-0.428055</td>\n",
              "      <td>0.442686</td>\n",
              "      <td>0.0</td>\n",
              "      <td>1</td>\n",
              "      <td>0.781881</td>\n",
              "      <td>1.797567</td>\n",
              "      <td>1.879415</td>\n",
              "    </tr>\n",
              "    <tr>\n",
              "      <th>319399</th>\n",
              "      <td>0.255942</td>\n",
              "      <td>-0.047602</td>\n",
              "      <td>0.617455</td>\n",
              "      <td>0.442686</td>\n",
              "      <td>0.0</td>\n",
              "      <td>1</td>\n",
              "      <td>0.781881</td>\n",
              "      <td>1.797567</td>\n",
              "      <td>1.879415</td>\n",
              "    </tr>\n",
              "  </tbody>\n",
              "</table>\n",
              "<p>230128 rows × 9 columns</p>\n",
              "</div>\n",
              "      <button class=\"colab-df-convert\" onclick=\"convertToInteractive('df-f76fa94e-ac6d-427a-b643-97c12584c6d8')\"\n",
              "              title=\"Convert this dataframe to an interactive table.\"\n",
              "              style=\"display:none;\">\n",
              "        \n",
              "  <svg xmlns=\"http://www.w3.org/2000/svg\" height=\"24px\"viewBox=\"0 0 24 24\"\n",
              "       width=\"24px\">\n",
              "    <path d=\"M0 0h24v24H0V0z\" fill=\"none\"/>\n",
              "    <path d=\"M18.56 5.44l.94 2.06.94-2.06 2.06-.94-2.06-.94-.94-2.06-.94 2.06-2.06.94zm-11 1L8.5 8.5l.94-2.06 2.06-.94-2.06-.94L8.5 2.5l-.94 2.06-2.06.94zm10 10l.94 2.06.94-2.06 2.06-.94-2.06-.94-.94-2.06-.94 2.06-2.06.94z\"/><path d=\"M17.41 7.96l-1.37-1.37c-.4-.4-.92-.59-1.43-.59-.52 0-1.04.2-1.43.59L10.3 9.45l-7.72 7.72c-.78.78-.78 2.05 0 2.83L4 21.41c.39.39.9.59 1.41.59.51 0 1.02-.2 1.41-.59l7.78-7.78 2.81-2.81c.8-.78.8-2.07 0-2.86zM5.41 20L4 18.59l7.72-7.72 1.47 1.35L5.41 20z\"/>\n",
              "  </svg>\n",
              "      </button>\n",
              "      \n",
              "  <style>\n",
              "    .colab-df-container {\n",
              "      display:flex;\n",
              "      flex-wrap:wrap;\n",
              "      gap: 12px;\n",
              "    }\n",
              "\n",
              "    .colab-df-convert {\n",
              "      background-color: #E8F0FE;\n",
              "      border: none;\n",
              "      border-radius: 50%;\n",
              "      cursor: pointer;\n",
              "      display: none;\n",
              "      fill: #1967D2;\n",
              "      height: 32px;\n",
              "      padding: 0 0 0 0;\n",
              "      width: 32px;\n",
              "    }\n",
              "\n",
              "    .colab-df-convert:hover {\n",
              "      background-color: #E2EBFA;\n",
              "      box-shadow: 0px 1px 2px rgba(60, 64, 67, 0.3), 0px 1px 3px 1px rgba(60, 64, 67, 0.15);\n",
              "      fill: #174EA6;\n",
              "    }\n",
              "\n",
              "    [theme=dark] .colab-df-convert {\n",
              "      background-color: #3B4455;\n",
              "      fill: #D2E3FC;\n",
              "    }\n",
              "\n",
              "    [theme=dark] .colab-df-convert:hover {\n",
              "      background-color: #434B5C;\n",
              "      box-shadow: 0px 1px 3px 1px rgba(0, 0, 0, 0.15);\n",
              "      filter: drop-shadow(0px 1px 2px rgba(0, 0, 0, 0.3));\n",
              "      fill: #FFFFFF;\n",
              "    }\n",
              "  </style>\n",
              "\n",
              "      <script>\n",
              "        const buttonEl =\n",
              "          document.querySelector('#df-f76fa94e-ac6d-427a-b643-97c12584c6d8 button.colab-df-convert');\n",
              "        buttonEl.style.display =\n",
              "          google.colab.kernel.accessAllowed ? 'block' : 'none';\n",
              "\n",
              "        async function convertToInteractive(key) {\n",
              "          const element = document.querySelector('#df-f76fa94e-ac6d-427a-b643-97c12584c6d8');\n",
              "          const dataTable =\n",
              "            await google.colab.kernel.invokeFunction('convertToInteractive',\n",
              "                                                     [key], {});\n",
              "          if (!dataTable) return;\n",
              "\n",
              "          const docLinkHtml = 'Like what you see? Visit the ' +\n",
              "            '<a target=\"_blank\" href=https://colab.research.google.com/notebooks/data_table.ipynb>data table notebook</a>'\n",
              "            + ' to learn more about interactive tables.';\n",
              "          element.innerHTML = '';\n",
              "          dataTable['output_type'] = 'display_data';\n",
              "          await google.colab.output.renderOutput(dataTable, element);\n",
              "          const docLink = document.createElement('div');\n",
              "          docLink.innerHTML = docLinkHtml;\n",
              "          element.appendChild(docLink);\n",
              "        }\n",
              "      </script>\n",
              "    </div>\n",
              "  </div>\n",
              "  "
            ]
          },
          "metadata": {},
          "execution_count": 93
        }
      ],
      "source": [
        "#normalising train set\n",
        "from hmac import trans_36\n",
        "from sklearn.preprocessing import StandardScaler,MinMaxScaler\n",
        "scaler1=StandardScaler()\n",
        "scaler2=MinMaxScaler()\n",
        "\n",
        "train_set['StockCode']=scaler2.fit_transform(train_set[['StockCode']])\n",
        "train_set['CustomerID']=scaler2.fit_transform(train_set[['CustomerID']])\n",
        "train_set['Country']=scaler2.fit_transform(train_set[['Country']])\n",
        "\n",
        "train_set['Quantity']=scaler1.fit_transform(train_set[['Quantity']])\n",
        "train_set['UnitPrice']=scaler1.fit_transform(train_set[['UnitPrice']])\n",
        "train_set['month']=scaler1.fit_transform(train_set[['month']])\n",
        "train_set['year']=scaler1.fit_transform(train_set[['year']])\n",
        "train_set['day']=scaler1.fit_transform(train_set[['day']])\n",
        "train_set['hour']=scaler1.fit_transform(train_set[['hour']])\n",
        "\n",
        "\n",
        "#dropping useless cols\n",
        "train_set=train_set.drop(['year'],axis=1)\n",
        "\n",
        "\n",
        "train_set\n"
      ]
    },
    {
      "cell_type": "code",
      "execution_count": 94,
      "metadata": {
        "id": "7BXqS10ko8ne"
      },
      "outputs": [],
      "source": [
        "y=train_set['isChurn']\n",
        "x=train_set.drop(['isChurn'],axis=1)"
      ]
    },
    {
      "cell_type": "code",
      "execution_count": 95,
      "metadata": {
        "id": "Ld0t4lVNo8ne"
      },
      "outputs": [],
      "source": [
        "#dividing data set into train test and dev\n",
        "#80/20\n",
        "from sklearn.model_selection import train_test_split\n",
        "\n",
        "X_train,X_test,y_train,y_test = train_test_split(x,y,test_size=0.6,random_state=1,shuffle=True)"
      ]
    },
    {
      "cell_type": "code",
      "execution_count": 96,
      "metadata": {
        "id": "eSjlsemxo8ne"
      },
      "outputs": [],
      "source": [
        "#80/20\n",
        "X_train,X_val,y_train,y_val = sk.model_selection.train_test_split(X_train,y_train,test_size=0.6,random_state=1)"
      ]
    },
    {
      "cell_type": "code",
      "execution_count": 97,
      "metadata": {
        "id": "x6UEFyjjo8nf",
        "outputId": "492378b0-6d9e-4475-d2fd-b70c500c4119",
        "colab": {
          "base_uri": "https://localhost:8080/"
        }
      },
      "outputs": [
        {
          "output_type": "execute_result",
          "data": {
            "text/plain": [
              "DecisionTreeClassifier()"
            ]
          },
          "metadata": {},
          "execution_count": 97
        }
      ],
      "source": [
        "#decision Tree\n",
        "\n",
        "from sklearn.tree import DecisionTreeClassifier\n",
        "\n",
        "model1=DecisionTreeClassifier()\n",
        "model1.fit(X_train,y_train)"
      ]
    },
    {
      "cell_type": "code",
      "execution_count": 98,
      "metadata": {
        "id": "uCoVBsJlo8nf"
      },
      "outputs": [],
      "source": [
        "y_pred = model1.predict(X_test)"
      ]
    },
    {
      "cell_type": "code",
      "execution_count": 99,
      "metadata": {
        "id": "ynSrQg2Po8nf",
        "outputId": "c1f7748c-d8a4-4ac5-d9ec-b066252ca57a",
        "colab": {
          "base_uri": "https://localhost:8080/"
        }
      },
      "outputs": [
        {
          "output_type": "stream",
          "name": "stdout",
          "text": [
            "[[ 21765   4799]\n",
            " [  4792 106721]]\n",
            "              precision    recall  f1-score   support\n",
            "\n",
            "           0       0.82      0.82      0.82     26564\n",
            "           1       0.96      0.96      0.96    111513\n",
            "\n",
            "    accuracy                           0.93    138077\n",
            "   macro avg       0.89      0.89      0.89    138077\n",
            "weighted avg       0.93      0.93      0.93    138077\n",
            "\n"
          ]
        }
      ],
      "source": [
        "#evaluating decision tree\n",
        "from sklearn.metrics import classification_report, confusion_matrix\n",
        "print(confusion_matrix(y_test, y_pred))\n",
        "print(classification_report(y_test, y_pred))"
      ]
    },
    {
      "cell_type": "code",
      "execution_count": 100,
      "metadata": {
        "id": "5aSAVRUwo8nf",
        "outputId": "aeffeaed-94ce-406e-ed3f-45e299443415",
        "colab": {
          "base_uri": "https://localhost:8080/"
        }
      },
      "outputs": [
        {
          "output_type": "stream",
          "name": "stdout",
          "text": [
            "[LibLinear]"
          ]
        },
        {
          "output_type": "stream",
          "name": "stderr",
          "text": [
            "/usr/local/lib/python3.7/dist-packages/sklearn/svm/_base.py:1208: ConvergenceWarning: Liblinear failed to converge, increase the number of iterations.\n",
            "  ConvergenceWarning,\n"
          ]
        },
        {
          "output_type": "execute_result",
          "data": {
            "text/plain": [
              "LinearSVC(max_iter=5000, verbose=True)"
            ]
          },
          "metadata": {},
          "execution_count": 100
        }
      ],
      "source": [
        "#SVM\n",
        "from sklearn.svm import LinearSVC\n",
        "\n",
        "model2=LinearSVC(max_iter=5000,verbose=True)\n",
        "model2.fit(X_train,y_train)"
      ]
    },
    {
      "cell_type": "code",
      "execution_count": 101,
      "metadata": {
        "id": "hpXVT5kjo8nf"
      },
      "outputs": [],
      "source": [
        "y_pred = model2.predict(X_test)"
      ]
    },
    {
      "cell_type": "code",
      "execution_count": 102,
      "metadata": {
        "id": "2_sKRGtpo8nf",
        "outputId": "d2b133ea-6550-4497-bf37-503c6b929f80",
        "colab": {
          "base_uri": "https://localhost:8080/"
        }
      },
      "outputs": [
        {
          "output_type": "stream",
          "name": "stdout",
          "text": [
            "[[    52  26512]\n",
            " [    48 111465]]\n",
            "              precision    recall  f1-score   support\n",
            "\n",
            "           0       0.52      0.00      0.00     26564\n",
            "           1       0.81      1.00      0.89    111513\n",
            "\n",
            "    accuracy                           0.81    138077\n",
            "   macro avg       0.66      0.50      0.45    138077\n",
            "weighted avg       0.75      0.81      0.72    138077\n",
            "\n"
          ]
        }
      ],
      "source": [
        "#evaluating SVM\n",
        "from sklearn.metrics import classification_report, confusion_matrix\n",
        "print(confusion_matrix(y_test, y_pred))\n",
        "print(classification_report(y_test, y_pred))"
      ]
    },
    {
      "cell_type": "code",
      "execution_count": 103,
      "metadata": {
        "id": "UPtGXP7Uo8ng",
        "outputId": "b0e1d565-f34e-4e85-bad2-22f028a4f58e",
        "colab": {
          "base_uri": "https://localhost:8080/"
        }
      },
      "outputs": [
        {
          "output_type": "stream",
          "name": "stdout",
          "text": [
            "Iteration 1, loss = 0.52293755\n",
            "Iteration 2, loss = 0.48693172\n",
            "Iteration 3, loss = 0.48082956\n",
            "Iteration 4, loss = 0.47719291\n",
            "Iteration 5, loss = 0.47509183\n",
            "Iteration 6, loss = 0.47394549\n",
            "Iteration 7, loss = 0.47319243\n",
            "Iteration 8, loss = 0.47248177\n",
            "Iteration 9, loss = 0.47209376\n",
            "Iteration 10, loss = 0.47141085\n",
            "Iteration 11, loss = 0.47105268\n",
            "Iteration 12, loss = 0.47071655\n",
            "Iteration 13, loss = 0.47028376\n",
            "Iteration 14, loss = 0.46995269\n",
            "Iteration 15, loss = 0.46955837\n",
            "Iteration 16, loss = 0.46912128\n",
            "Iteration 17, loss = 0.46869843\n",
            "Iteration 18, loss = 0.46819148\n",
            "Iteration 19, loss = 0.46805128\n",
            "Iteration 20, loss = 0.46748041\n",
            "Iteration 21, loss = 0.46729152\n",
            "Iteration 22, loss = 0.46686019\n",
            "Iteration 23, loss = 0.46679467\n",
            "Iteration 24, loss = 0.46639925\n",
            "Iteration 25, loss = 0.46615934\n",
            "Iteration 26, loss = 0.46547854\n",
            "Iteration 27, loss = 0.46533367\n",
            "Iteration 28, loss = 0.46484528\n",
            "Iteration 29, loss = 0.46456485\n",
            "Iteration 30, loss = 0.46419798\n",
            "Iteration 31, loss = 0.46413736\n",
            "Iteration 32, loss = 0.46373201\n",
            "Iteration 33, loss = 0.46353440\n",
            "Iteration 34, loss = 0.46328335\n",
            "Iteration 35, loss = 0.46292323\n",
            "Iteration 36, loss = 0.46265206\n",
            "Iteration 37, loss = 0.46199045\n",
            "Iteration 38, loss = 0.46170066\n",
            "Iteration 39, loss = 0.46152898\n",
            "Iteration 40, loss = 0.46123961\n",
            "Iteration 41, loss = 0.46105190\n",
            "Iteration 42, loss = 0.46092485\n",
            "Iteration 43, loss = 0.46043076\n",
            "Iteration 44, loss = 0.46049262\n",
            "Iteration 45, loss = 0.46033571\n",
            "Iteration 46, loss = 0.46009594\n",
            "Iteration 47, loss = 0.46001463\n",
            "Iteration 48, loss = 0.45910091\n",
            "Iteration 49, loss = 0.45939378\n",
            "Iteration 50, loss = 0.45919221\n",
            "Iteration 51, loss = 0.45887140\n",
            "Iteration 52, loss = 0.45896261\n",
            "Iteration 53, loss = 0.45883534\n",
            "Iteration 54, loss = 0.45819565\n",
            "Iteration 55, loss = 0.45863961\n",
            "Iteration 56, loss = 0.45805425\n",
            "Iteration 57, loss = 0.45798079\n",
            "Iteration 58, loss = 0.45800953\n",
            "Iteration 59, loss = 0.45758858\n",
            "Iteration 60, loss = 0.45780444\n",
            "Iteration 61, loss = 0.45719573\n",
            "Iteration 62, loss = 0.45677791\n",
            "Iteration 63, loss = 0.45673645\n",
            "Iteration 64, loss = 0.45672242\n",
            "Iteration 65, loss = 0.45683784\n",
            "Iteration 66, loss = 0.45633048\n",
            "Iteration 67, loss = 0.45640865\n",
            "Iteration 68, loss = 0.45662997\n",
            "Iteration 69, loss = 0.45673067\n",
            "Iteration 70, loss = 0.45585438\n",
            "Iteration 71, loss = 0.45581405\n",
            "Iteration 72, loss = 0.45581551\n",
            "Iteration 73, loss = 0.45547704\n",
            "Iteration 74, loss = 0.45534454\n",
            "Iteration 75, loss = 0.45533976\n",
            "Iteration 76, loss = 0.45496973\n",
            "Iteration 77, loss = 0.45508030\n",
            "Iteration 78, loss = 0.45450973\n",
            "Iteration 79, loss = 0.45492068\n",
            "Iteration 80, loss = 0.45491318\n",
            "Iteration 81, loss = 0.45459693\n",
            "Iteration 82, loss = 0.45453880\n",
            "Iteration 83, loss = 0.45439283\n",
            "Iteration 84, loss = 0.45433360\n",
            "Iteration 85, loss = 0.45415054\n",
            "Iteration 86, loss = 0.45382015\n",
            "Iteration 87, loss = 0.45410764\n",
            "Iteration 88, loss = 0.45387643\n",
            "Iteration 89, loss = 0.45385832\n",
            "Iteration 90, loss = 0.45405868\n",
            "Iteration 91, loss = 0.45350520\n",
            "Iteration 92, loss = 0.45365336\n",
            "Iteration 93, loss = 0.45366368\n",
            "Iteration 94, loss = 0.45345488\n",
            "Iteration 95, loss = 0.45351466\n",
            "Iteration 96, loss = 0.45361385\n",
            "Iteration 97, loss = 0.45297598\n",
            "Iteration 98, loss = 0.45283354\n",
            "Iteration 99, loss = 0.45256435\n",
            "Iteration 100, loss = 0.45266496\n",
            "Iteration 101, loss = 0.45278935\n",
            "Iteration 102, loss = 0.45256740\n",
            "Iteration 103, loss = 0.45248513\n",
            "Iteration 104, loss = 0.45220361\n",
            "Iteration 105, loss = 0.45225712\n",
            "Iteration 106, loss = 0.45272203\n",
            "Iteration 107, loss = 0.45210491\n",
            "Iteration 108, loss = 0.45173088\n",
            "Iteration 109, loss = 0.45263841\n",
            "Iteration 110, loss = 0.45218751\n",
            "Iteration 111, loss = 0.45179364\n",
            "Iteration 112, loss = 0.45218950\n",
            "Iteration 113, loss = 0.45220228\n",
            "Iteration 114, loss = 0.45187589\n",
            "Iteration 115, loss = 0.45173661\n",
            "Iteration 116, loss = 0.45185063\n",
            "Iteration 117, loss = 0.45185038\n",
            "Iteration 118, loss = 0.45173168\n",
            "Iteration 119, loss = 0.45124239\n",
            "Iteration 120, loss = 0.45138760\n",
            "Iteration 121, loss = 0.45137466\n",
            "Iteration 122, loss = 0.45092530\n",
            "Iteration 123, loss = 0.45171842\n",
            "Iteration 124, loss = 0.45104606\n",
            "Iteration 125, loss = 0.45099794\n",
            "Iteration 126, loss = 0.45091994\n",
            "Iteration 127, loss = 0.45074955\n",
            "Iteration 128, loss = 0.45093179\n",
            "Iteration 129, loss = 0.45119678\n",
            "Iteration 130, loss = 0.45058903\n",
            "Iteration 131, loss = 0.45064835\n",
            "Iteration 132, loss = 0.45049526\n",
            "Iteration 133, loss = 0.45045122\n",
            "Iteration 134, loss = 0.45088866\n",
            "Iteration 135, loss = 0.45054953\n",
            "Iteration 136, loss = 0.45029253\n",
            "Iteration 137, loss = 0.45029570\n",
            "Iteration 138, loss = 0.45011144\n",
            "Iteration 139, loss = 0.45027732\n",
            "Iteration 140, loss = 0.45027212\n",
            "Iteration 141, loss = 0.44984676\n",
            "Iteration 142, loss = 0.44955759\n",
            "Iteration 143, loss = 0.45039312\n",
            "Iteration 144, loss = 0.44990692\n",
            "Iteration 145, loss = 0.44956423\n",
            "Iteration 146, loss = 0.44975098\n",
            "Iteration 147, loss = 0.44958631\n",
            "Iteration 148, loss = 0.44977762\n",
            "Iteration 149, loss = 0.44986910\n",
            "Iteration 150, loss = 0.44962985\n",
            "Iteration 151, loss = 0.44921132\n",
            "Iteration 152, loss = 0.44926440\n",
            "Iteration 153, loss = 0.44928551\n",
            "Iteration 154, loss = 0.44963703\n",
            "Iteration 155, loss = 0.44889371\n",
            "Iteration 156, loss = 0.44915952\n",
            "Iteration 157, loss = 0.44894104\n",
            "Iteration 158, loss = 0.44903127\n",
            "Iteration 159, loss = 0.44897108\n",
            "Iteration 160, loss = 0.44860607\n",
            "Iteration 161, loss = 0.44875156\n",
            "Iteration 162, loss = 0.44867954\n",
            "Iteration 163, loss = 0.44840443\n",
            "Iteration 164, loss = 0.44872110\n",
            "Iteration 165, loss = 0.44864276\n",
            "Iteration 166, loss = 0.44859005\n",
            "Iteration 167, loss = 0.44843196\n",
            "Iteration 168, loss = 0.44780106\n",
            "Iteration 169, loss = 0.44853026\n",
            "Iteration 170, loss = 0.44841707\n",
            "Iteration 171, loss = 0.44841236\n",
            "Iteration 172, loss = 0.44825103\n",
            "Iteration 173, loss = 0.44821358\n",
            "Iteration 174, loss = 0.44831974\n",
            "Iteration 175, loss = 0.44786759\n",
            "Iteration 176, loss = 0.44769169\n",
            "Iteration 177, loss = 0.44798225\n",
            "Iteration 178, loss = 0.44731328\n",
            "Iteration 179, loss = 0.44795123\n",
            "Iteration 180, loss = 0.44756985\n",
            "Iteration 181, loss = 0.44751520\n",
            "Iteration 182, loss = 0.44729768\n",
            "Iteration 183, loss = 0.44716581\n",
            "Iteration 184, loss = 0.44740855\n",
            "Iteration 185, loss = 0.44768116\n",
            "Iteration 186, loss = 0.44711858\n",
            "Iteration 187, loss = 0.44700519\n",
            "Iteration 188, loss = 0.44725640\n",
            "Iteration 189, loss = 0.44706140\n",
            "Iteration 190, loss = 0.44668607\n",
            "Iteration 191, loss = 0.44678223\n",
            "Iteration 192, loss = 0.44754618\n",
            "Iteration 193, loss = 0.44660135\n",
            "Iteration 194, loss = 0.44639698\n",
            "Iteration 195, loss = 0.44663709\n",
            "Iteration 196, loss = 0.44697588\n",
            "Iteration 197, loss = 0.44672477\n",
            "Iteration 198, loss = 0.44631822\n",
            "Iteration 199, loss = 0.44725517\n",
            "Iteration 200, loss = 0.44623793\n",
            "Iteration 201, loss = 0.44651793\n",
            "Iteration 202, loss = 0.44637733\n",
            "Iteration 203, loss = 0.44585407\n",
            "Iteration 204, loss = 0.44665354\n",
            "Iteration 205, loss = 0.44551217\n",
            "Iteration 206, loss = 0.44584568\n",
            "Iteration 207, loss = 0.44583240\n",
            "Iteration 208, loss = 0.44579485\n",
            "Iteration 209, loss = 0.44551702\n",
            "Iteration 210, loss = 0.44571400\n",
            "Iteration 211, loss = 0.44592088\n",
            "Iteration 212, loss = 0.44508457\n",
            "Iteration 213, loss = 0.44553851\n",
            "Iteration 214, loss = 0.44567224\n",
            "Iteration 215, loss = 0.44543675\n",
            "Iteration 216, loss = 0.44543184\n",
            "Iteration 217, loss = 0.44522205\n",
            "Iteration 218, loss = 0.44497817\n",
            "Iteration 219, loss = 0.44557007\n",
            "Iteration 220, loss = 0.44530680\n",
            "Iteration 221, loss = 0.44492955\n",
            "Iteration 222, loss = 0.44491631\n",
            "Iteration 223, loss = 0.44505650\n",
            "Iteration 224, loss = 0.44515629\n",
            "Iteration 225, loss = 0.44436329\n",
            "Iteration 226, loss = 0.44457832\n",
            "Iteration 227, loss = 0.44488056\n",
            "Iteration 228, loss = 0.44490299\n",
            "Iteration 229, loss = 0.44511729\n",
            "Iteration 230, loss = 0.44504294\n",
            "Iteration 231, loss = 0.44483821\n",
            "Iteration 232, loss = 0.44458836\n",
            "Iteration 233, loss = 0.44456066\n",
            "Iteration 234, loss = 0.44455066\n",
            "Iteration 235, loss = 0.44437806\n",
            "Iteration 236, loss = 0.44421302\n",
            "Iteration 237, loss = 0.44427884\n",
            "Iteration 238, loss = 0.44442924\n",
            "Iteration 239, loss = 0.44419145\n",
            "Iteration 240, loss = 0.44385182\n",
            "Iteration 241, loss = 0.44416415\n",
            "Iteration 242, loss = 0.44368945\n",
            "Iteration 243, loss = 0.44375159\n",
            "Iteration 244, loss = 0.44420519\n",
            "Iteration 245, loss = 0.44396071\n",
            "Iteration 246, loss = 0.44428321\n",
            "Iteration 247, loss = 0.44359284\n",
            "Iteration 248, loss = 0.44318671\n",
            "Iteration 249, loss = 0.44372652\n",
            "Iteration 250, loss = 0.44350978\n",
            "Iteration 251, loss = 0.44334691\n",
            "Iteration 252, loss = 0.44372196\n",
            "Iteration 253, loss = 0.44346719\n",
            "Iteration 254, loss = 0.44326899\n",
            "Iteration 255, loss = 0.44344820\n",
            "Iteration 256, loss = 0.44311405\n",
            "Iteration 257, loss = 0.44357565\n",
            "Iteration 258, loss = 0.44336456\n",
            "Iteration 259, loss = 0.44285252\n",
            "Iteration 260, loss = 0.44284402\n",
            "Iteration 261, loss = 0.44302775\n",
            "Iteration 262, loss = 0.44341563\n",
            "Iteration 263, loss = 0.44320403\n",
            "Iteration 264, loss = 0.44253900\n",
            "Iteration 265, loss = 0.44318438\n",
            "Iteration 266, loss = 0.44327311\n",
            "Iteration 267, loss = 0.44232409\n",
            "Iteration 268, loss = 0.44282359\n",
            "Iteration 269, loss = 0.44265724\n",
            "Iteration 270, loss = 0.44239674\n",
            "Iteration 271, loss = 0.44222792\n",
            "Iteration 272, loss = 0.44269617\n",
            "Iteration 273, loss = 0.44241112\n",
            "Iteration 274, loss = 0.44216234\n",
            "Iteration 275, loss = 0.44261135\n",
            "Iteration 276, loss = 0.44195346\n",
            "Iteration 277, loss = 0.44206578\n",
            "Iteration 278, loss = 0.44263361\n",
            "Iteration 279, loss = 0.44212649\n",
            "Iteration 280, loss = 0.44180559\n",
            "Iteration 281, loss = 0.44213205\n",
            "Iteration 282, loss = 0.44160304\n",
            "Iteration 283, loss = 0.44215739\n",
            "Iteration 284, loss = 0.44140843\n",
            "Iteration 285, loss = 0.44182486\n",
            "Iteration 286, loss = 0.44167512\n",
            "Iteration 287, loss = 0.44143569\n",
            "Iteration 288, loss = 0.44194994\n",
            "Iteration 289, loss = 0.44135129\n",
            "Iteration 290, loss = 0.44183366\n",
            "Iteration 291, loss = 0.44124790\n",
            "Iteration 292, loss = 0.44090405\n",
            "Iteration 293, loss = 0.44141999\n",
            "Iteration 294, loss = 0.44133189\n",
            "Iteration 295, loss = 0.44128906\n",
            "Iteration 296, loss = 0.44114893\n",
            "Iteration 297, loss = 0.44099495\n",
            "Iteration 298, loss = 0.44122996\n",
            "Iteration 299, loss = 0.44140242\n",
            "Iteration 300, loss = 0.44104043\n",
            "Iteration 301, loss = 0.44169911\n",
            "Iteration 302, loss = 0.44143426\n",
            "Iteration 303, loss = 0.44087726\n",
            "Training loss did not improve more than tol=0.000100 for 10 consecutive epochs. Stopping.\n"
          ]
        },
        {
          "output_type": "execute_result",
          "data": {
            "text/plain": [
              "MLPClassifier(max_iter=5000, verbose=True)"
            ]
          },
          "metadata": {},
          "execution_count": 103
        }
      ],
      "source": [
        "#ANN\n",
        "from sklearn.neural_network import MLPClassifier\n",
        "\n",
        "model3=MLPClassifier(max_iter=5000,verbose=True)\n",
        "model3.fit(X_train,y_train)"
      ]
    },
    {
      "cell_type": "code",
      "execution_count": 104,
      "metadata": {
        "id": "lOStSlqfo8ng"
      },
      "outputs": [],
      "source": [
        "y_pred = model3.predict(X_test)"
      ]
    },
    {
      "cell_type": "code",
      "execution_count": 105,
      "metadata": {
        "id": "SOyKdUbpo8ng",
        "outputId": "a59e62b2-4c30-4d3a-a853-2f48e43dd956",
        "colab": {
          "base_uri": "https://localhost:8080/"
        }
      },
      "outputs": [
        {
          "output_type": "stream",
          "name": "stdout",
          "text": [
            "[[  1418  25146]\n",
            " [   508 111005]]\n",
            "              precision    recall  f1-score   support\n",
            "\n",
            "           0       0.74      0.05      0.10     26564\n",
            "           1       0.82      1.00      0.90    111513\n",
            "\n",
            "    accuracy                           0.81    138077\n",
            "   macro avg       0.78      0.52      0.50    138077\n",
            "weighted avg       0.80      0.81      0.74    138077\n",
            "\n"
          ]
        }
      ],
      "source": [
        "#evaluating neural network\n",
        "from sklearn.metrics import classification_report, confusion_matrix\n",
        "print(confusion_matrix(y_test, y_pred))\n",
        "print(classification_report(y_test, y_pred))"
      ]
    }
  ],
  "metadata": {
    "kernelspec": {
      "display_name": "Python 3.10.4 64-bit",
      "language": "python",
      "name": "python3"
    },
    "language_info": {
      "codemirror_mode": {
        "name": "ipython",
        "version": 3
      },
      "file_extension": ".py",
      "mimetype": "text/x-python",
      "name": "python",
      "nbconvert_exporter": "python",
      "pygments_lexer": "ipython3",
      "version": "3.10.4"
    },
    "orig_nbformat": 4,
    "vscode": {
      "interpreter": {
        "hash": "6636ba45faffc219cae2b87741d963292a78c82ff95ce9fb53c4afc5b5891e1b"
      }
    },
    "colab": {
      "provenance": []
    }
  },
  "nbformat": 4,
  "nbformat_minor": 0
}